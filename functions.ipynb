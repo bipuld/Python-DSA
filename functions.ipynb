{
 "cells": [
  {
   "cell_type": "markdown",
   "metadata": {},
   "source": [
    "The type of Functions built in python are\n",
    "1.Built in function\n",
    "2.User-defined function\n",
    "\n",
    "1.Built in function\n",
    "which are build in python and pre coded in python\n",
    "min(),max(),len(),type(),range(),dict(),list(),tuple(),set(),print() etc\n",
    "\n",
    "2.User Defined function\n",
    "def func(x):\n",
    "    return x**3\n",
    "\n",
    "print(func(3))\n"
   ]
  },
  {
   "cell_type": "markdown",
   "metadata": {},
   "source": [
    "Functions and Recursion:\n",
    "\n",
    "Write a function to calculate the sum of all numbers from 1 to n using recursion.\n",
    "Implement a recursive function to find the nth term of the Fibonacci sequence.\n",
    "Create a function that takes a list of numbers and returns the maximum value using recursion.\n",
    "Write a function that checks whether a given string is a palindrome or not using recursion.\n",
    "Create a recursive function to calculate the greatest common divisor (GCD) of two numbers.\n",
    "Filter Function:\n",
    "\n"
   ]
  },
  {
   "cell_type": "code",
   "execution_count": 11,
   "metadata": {},
   "outputs": [
    {
     "name": "stdout",
     "output_type": "stream",
     "text": [
      "27\n"
     ]
    }
   ],
   "source": [
    "def func(x):\n",
    "    return x**3\n",
    "\n",
    "print(func(3))"
   ]
  },
  {
   "cell_type": "code",
   "execution_count": 12,
   "metadata": {},
   "outputs": [
    {
     "name": "stdout",
     "output_type": "stream",
     "text": [
      "My name is jon and doe\n"
     ]
    }
   ],
   "source": [
    "def name(fname,lname):\n",
    "    print(f\"My name is {fname} and {lname}\")\n",
    "name(\"jon\",'doe')"
   ]
  },
  {
   "cell_type": "markdown",
   "metadata": {},
   "source": [
    "Type of functions arguments in python\n",
    "1.Default Arguments\n",
    "2.Keyword arguments\n",
    "3.Required arguments\n",
    "4.Variable length Arguments\n"
   ]
  },
  {
   "cell_type": "code",
   "execution_count": 13,
   "metadata": {},
   "outputs": [
    {
     "name": "stdout",
     "output_type": "stream",
     "text": [
      "My name is Mohan kumar Yadav\n"
     ]
    }
   ],
   "source": [
    "# Default  arguments\n",
    "def name(fname,mid_name='kumar',lname=\"Yadav\"):\n",
    "    print(f\"My name is {fname} {mid_name} {lname}\")\n",
    "name('Mohan')\n"
   ]
  },
  {
   "cell_type": "code",
   "execution_count": 14,
   "metadata": {},
   "outputs": [
    {
     "name": "stdout",
     "output_type": "stream",
     "text": [
      "My name is Harish nelson Gupta\n"
     ]
    }
   ],
   "source": [
    "# Keybord Arguments\n",
    "def name(fname,mid_name,lname):\n",
    "    print(f\"My name is {fname} {mid_name} {lname}\")\n",
    "# name('harish','nelson','Gupta')\n",
    "# name('harish','nelson','Gupta')\n",
    "name(mid_name='nelson',lname='Gupta',fname='Harish')"
   ]
  },
  {
   "cell_type": "code",
   "execution_count": 15,
   "metadata": {},
   "outputs": [
    {
     "ename": "TypeError",
     "evalue": "name() missing 1 required positional argument: 'lname'",
     "output_type": "error",
     "traceback": [
      "\u001b[1;31m---------------------------------------------------------------------------\u001b[0m",
      "\u001b[1;31mTypeError\u001b[0m                                 Traceback (most recent call last)",
      "Cell \u001b[1;32mIn[15], line 4\u001b[0m\n\u001b[0;32m      2\u001b[0m \u001b[39mdef\u001b[39;00m \u001b[39mname\u001b[39m(fname,mname,lname):\n\u001b[0;32m      3\u001b[0m     \u001b[39mprint\u001b[39m(\u001b[39mf\u001b[39m\u001b[39m\"\u001b[39m\u001b[39m{\u001b[39;00mfname\u001b[39m}\u001b[39;00m\u001b[39m \u001b[39m\u001b[39m{\u001b[39;00mmname\u001b[39m}\u001b[39;00m\u001b[39m \u001b[39m\u001b[39m{\u001b[39;00mlname\u001b[39m}\u001b[39;00m\u001b[39m\"\u001b[39m)\n\u001b[1;32m----> 4\u001b[0m name(\u001b[39m'\u001b[39;49m\u001b[39mBipul\u001b[39;49m\u001b[39m'\u001b[39;49m,\u001b[39m'\u001b[39;49m\u001b[39mlname\u001b[39;49m\u001b[39m'\u001b[39;49m)\n",
      "\u001b[1;31mTypeError\u001b[0m: name() missing 1 required positional argument: 'lname'"
     ]
    }
   ],
   "source": [
    "# Required Arguments\n",
    "def name(fname,mname,lname):\n",
    "    print(f\"{fname} {mname} {lname}\")\n",
    "name('Bipul','lname')"
   ]
  },
  {
   "cell_type": "code",
   "execution_count": 16,
   "metadata": {},
   "outputs": [
    {
     "name": "stdout",
     "output_type": "stream",
     "text": [
      "56\n",
      "899\n",
      "51651\n"
     ]
    }
   ],
   "source": [
    "# variable length arguments\n",
    "def my_function(*args):\n",
    "    for i in args:\n",
    "        print(i)\n",
    "my_function(56,899,51651)"
   ]
  },
  {
   "cell_type": "code",
   "execution_count": 19,
   "metadata": {},
   "outputs": [
    {
     "name": "stdout",
     "output_type": "stream",
     "text": [
      "First name is Bipul\n",
      "56\n",
      "592564\n",
      "65465\n"
     ]
    }
   ],
   "source": [
    "def passf(name,*args):\n",
    "    # print(f\"First name is {name}\")\n",
    "    print(\"First name is\",name)  \n",
    "    for i in args:\n",
    "        print(i)\n",
    "passf(\"Bipul\",56,592564,65465)\n",
    "\n",
    "\n",
    "    "
   ]
  },
  {
   "cell_type": "code",
   "execution_count": 34,
   "metadata": {},
   "outputs": [
    {
     "name": "stdout",
     "output_type": "stream",
     "text": [
      "Bipul\n",
      "Bikram\n",
      "Additya\n",
      "James\n"
     ]
    }
   ],
   "source": [
    "def students(*name):\n",
    "    # print(\"Name of students :\",name[0] + name[2] + name[1],\"Got first rank in School with same mark but this guy become the nepal topper\",name[3])\n",
    "    for i in name:\n",
    "        print(i)\n",
    "students(\"Bipul\",\"Bikram\",\"Additya\",\"James\")"
   ]
  },
  {
   "cell_type": "code",
   "execution_count": 43,
   "metadata": {},
   "outputs": [
    {
     "name": "stdout",
     "output_type": "stream",
     "text": [
      "Item are apple\n",
      "Item are banana\n",
      "Item are cherry\n",
      "Item are date\n",
      "Item are grape\n",
      "Item are kiwi\n",
      "Item are orange\n",
      "Item are pear\n"
     ]
    }
   ],
   "source": [
    "# passing the prefix and suffix in variable length arguments\n",
    "def fruits(prefix,*fname):\n",
    "    # print('Items are :',prefix)\n",
    "    for i in fname:\n",
    "        print(prefix,i)   \n",
    "fruits(\"Item are\",\"apple\", \"banana\", \"cherry\", \"date\", \"grape\", \"kiwi\", \"orange\", \"pear\")"
   ]
  },
  {
   "cell_type": "code",
   "execution_count": 51,
   "metadata": {},
   "outputs": [
    {
     "name": "stdout",
     "output_type": "stream",
     "text": [
      "Adarsh thapa\n",
      "Sushan thapa\n",
      "Nimesh thapa\n"
     ]
    }
   ],
   "source": [
    "def lname(postfix,*args):\n",
    "    for i in args:\n",
    "        print(i,postfix)\n",
    "lname(\"thapa\",'Adarsh','Sushan','Nimesh')\n"
   ]
  },
  {
   "cell_type": "markdown",
   "metadata": {},
   "source": [
    "Keyword Arbitrary Arguments"
   ]
  },
  {
   "cell_type": "code",
   "execution_count": 62,
   "metadata": {},
   "outputs": [
    {
     "name": "stdout",
     "output_type": "stream",
     "text": [
      "Name:  Bipul\n",
      "Age:  25\n",
      "Location: California\n",
      "Post: Senior AI engineer\n",
      "\n",
      "\n",
      "Name:  Bimal\n",
      "Age:  25\n",
      "Location: Texas\n",
      "Post: Senior Developer\n"
     ]
    }
   ],
   "source": [
    "def info(name,age,**kwargs):\n",
    "    print(\"Name: \", name)\n",
    "    print(\"Age: \", age)\n",
    "    \n",
    "    for i,j in kwargs.items():\n",
    "        print(i.capitalize() + \":\", j)\n",
    "info('Bipul',25,location=\"California\",post=\"Senior AI engineer\")\n",
    "print(\"\\n\")\n",
    "info('Bimal',25,location=\"Texas\",post=\"Senior Developer\")\n"
   ]
  },
  {
   "cell_type": "code",
   "execution_count": 3,
   "metadata": {},
   "outputs": [
    {
     "name": "stdout",
     "output_type": "stream",
     "text": [
      "The sum of number up to : 15\n"
     ]
    }
   ],
   "source": [
    "# 1.Write a function to calculate the sum of all numbers from 1 to n using recursion.\n",
    "def func(num1,n):\n",
    "    if num1==n:\n",
    "        return num1\n",
    "    else:\n",
    "        return num1+func(num1+1,n)\n",
    "print(\"The sum of number up to :\",func(1,5))"
   ]
  },
  {
   "cell_type": "code",
   "execution_count": 7,
   "metadata": {},
   "outputs": [],
   "source": [
    "# 2.Implement a recursive function to find the nth term of the Fibonacci sequence.\n",
    "def fib(n):\n",
    "    if n<=0:\n",
    "        return 0\n",
    "    elif n==1:\n",
    "        return 1\n",
    "    else:\n",
    "        return fib(n-1)+fib(n-2)\n",
    "result=fib(10)\n",
    "print(result)"
   ]
  },
  {
   "cell_type": "code",
   "execution_count": 7,
   "metadata": {},
   "outputs": [
    {
     "name": "stdout",
     "output_type": "stream",
     "text": [
      "The Maximum Value is 89 \n"
     ]
    }
   ],
   "source": [
    "#3. Create a function that takes a list of numbers and returns the maximum value using recursion.\n",
    "def max(number,n):\n",
    "    if len(number) ==0:\n",
    "        return None\n",
    "    max_number=number[0]\n",
    "    for i in number[1:n]:\n",
    "        if i > max_number:\n",
    "            max_number=i\n",
    "        return i\n",
    "\n",
    "no=int(input(\"How many number you want to enter in the array\"))\n",
    "list_input=input(f\"Enter the {no} number and separated them by comma\")\n",
    "list=[int(x) for x in list_input.split(',') ]\n",
    "print (f\"The Maximum Value is {max(list,no)} \")"
   ]
  },
  {
   "cell_type": "code",
   "execution_count": 12,
   "metadata": {},
   "outputs": [
    {
     "name": "stdout",
     "output_type": "stream",
     "text": [
      "your name is rar\n",
      "YES\n"
     ]
    }
   ],
   "source": [
    "# 4.Write a function that checks whether a given string is a palindrome or not using recursion.\n",
    "# palindrome concepts\n",
    "def palindrome(str):\n",
    "    if str[0]==str[-1]:\n",
    "        return True\n",
    "    elif str[1]!=str[-1]:\n",
    "        return False\n",
    "    return palindrome(str[1:-1])\n",
    "name=input(\"Hey ! give me the name\")\n",
    "print('your name is',(name))\n",
    "if palindrome(name):\n",
    "    print(\"YES\")\n",
    "else:\n",
    "    print(\"NO\")\n"
   ]
  },
  {
   "cell_type": "code",
   "execution_count": 13,
   "metadata": {},
   "outputs": [
    {
     "name": "stdout",
     "output_type": "stream",
     "text": [
      "mam\n",
      "Mam is a Palindrome\n"
     ]
    }
   ],
   "source": [
    "# check string is palindrome or not\n",
    "def checker(word):\n",
    "    if word[0]==word[-1]:\n",
    "        return True\n",
    "    elif word[1]!=word[-1]:\n",
    "        return False\n",
    "    return checker(word[1:-1])\n",
    "name=input(\"Hey!buddy enter the name of character that you want to check palindrome\")\n",
    "cha=name.lower()\n",
    "print(cha)\n",
    "if checker(cha):\n",
    "    print(f\"{name} is a Palindrome\")\n",
    "else:\n",
    "    print(f\"{name} is not palindrome\")"
   ]
  },
  {
   "cell_type": "code",
   "execution_count": null,
   "metadata": {},
   "outputs": [],
   "source": []
  },
  {
   "cell_type": "code",
   "execution_count": null,
   "metadata": {},
   "outputs": [],
   "source": []
  },
  {
   "cell_type": "code",
   "execution_count": null,
   "metadata": {},
   "outputs": [],
   "source": []
  },
  {
   "cell_type": "markdown",
   "metadata": {},
   "source": []
  }
 ],
 "metadata": {
  "kernelspec": {
   "display_name": "Python 3",
   "language": "python",
   "name": "python3"
  },
  "language_info": {
   "codemirror_mode": {
    "name": "ipython",
    "version": 3
   },
   "file_extension": ".py",
   "mimetype": "text/x-python",
   "name": "python",
   "nbconvert_exporter": "python",
   "pygments_lexer": "ipython3",
   "version": "3.11.5"
  },
  "orig_nbformat": 4
 },
 "nbformat": 4,
 "nbformat_minor": 2
}
