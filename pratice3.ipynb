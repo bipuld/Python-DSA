{
 "cells": [
  {
   "cell_type": "markdown",
   "metadata": {},
   "source": [
    "Write a program in python to create and print your name using the method.\n",
    "Write a program in python to print even numbers between intervals using methods.\n",
    "Write a program in python that find whether the number is prime or not using function.\n",
    "Write a program in python to reverse a String using a function.\n",
    "Write a program in python to calculate the power of a certain number. For e.g., 5^3=125\n",
    "Write a program in python to store 10 student names and print all using list.\n",
    "Write a program in python to join two lists.\n",
    "Write a program in python to check list contains a given value or not.\n"
   ]
  },
  {
   "cell_type": "code",
   "execution_count": 22,
   "metadata": {},
   "outputs": [
    {
     "name": "stdout",
     "output_type": "stream",
     "text": [
      "Bipul Dawadi\n"
     ]
    }
   ],
   "source": [
    "# Write a program in python to create and print your name using the method.\n",
    "def  func(my_name):\n",
    "    my_name=\"Bipul Dawadi\"\n",
    "    print(my_name)\n",
    "\n",
    "name=\"\"\n",
    "func(name)\n",
    "\n",
    "# print\n"
   ]
  },
  {
   "cell_type": "code",
   "execution_count": 23,
   "metadata": {},
   "outputs": [
    {
     "ename": "ValueError",
     "evalue": "invalid literal for int() with base 10: ''",
     "output_type": "error",
     "traceback": [
      "\u001b[1;31m---------------------------------------------------------------------------\u001b[0m",
      "\u001b[1;31mValueError\u001b[0m                                Traceback (most recent call last)",
      "Cell \u001b[1;32mIn[23], line 10\u001b[0m\n\u001b[0;32m      8\u001b[0m         \u001b[39mprint\u001b[39m(\u001b[39m\"\u001b[39m\u001b[39m\\n\u001b[39;00m\u001b[39m\"\u001b[39m)\n\u001b[0;32m      9\u001b[0m value\u001b[39m=\u001b[39m\u001b[39m0\u001b[39m\n\u001b[1;32m---> 10\u001b[0m even_num(value)\n",
      "Cell \u001b[1;32mIn[23], line 3\u001b[0m, in \u001b[0;36meven_num\u001b[1;34m(num)\u001b[0m\n\u001b[0;32m      2\u001b[0m \u001b[39mdef\u001b[39;00m \u001b[39meven_num\u001b[39m(num):\n\u001b[1;32m----> 3\u001b[0m     interval1\u001b[39m=\u001b[39m\u001b[39mint\u001b[39;49m(\u001b[39minput\u001b[39;49m(\u001b[39m\"\u001b[39;49m\u001b[39mstart the interval upto which you want to print\u001b[39;49m\u001b[39m\"\u001b[39;49m))\n\u001b[0;32m      4\u001b[0m     interval2\u001b[39m=\u001b[39m\u001b[39mint\u001b[39m(\u001b[39minput\u001b[39m(\u001b[39m\"\u001b[39m\u001b[39mUpto the interval upto which you want to print\u001b[39m\u001b[39m\"\u001b[39m))\n\u001b[0;32m      5\u001b[0m     \u001b[39mfor\u001b[39;00m i \u001b[39min\u001b[39;00m \u001b[39mrange\u001b[39m(interval1,interval2\u001b[39m+\u001b[39m\u001b[39m1\u001b[39m):\n",
      "\u001b[1;31mValueError\u001b[0m: invalid literal for int() with base 10: ''"
     ]
    }
   ],
   "source": [
    "# Write a program in python to print even numbers between intervals using methods.\n",
    "def even_num(num):\n",
    "    interval1=int(input(\"start the interval upto which you want to print\"))\n",
    "    interval2=int(input(\"Upto the interval upto which you want to print\"))\n",
    "    for i in range(interval1,interval2+1):\n",
    "        if i%2==0:\n",
    "            print(i)\n",
    "        print(\"\\n\")\n",
    "value=0\n",
    "even_num(value)"
   ]
  },
  {
   "cell_type": "code",
   "execution_count": null,
   "metadata": {},
   "outputs": [
    {
     "name": "stdout",
     "output_type": "stream",
     "text": [
      "Number is prime\n"
     ]
    }
   ],
   "source": [
    "# 3Write a program in python that find whether the number is prime or not using function.\n",
    "def checker(number):\n",
    "    number=int(input(\"Enter the number that you want to print\"))\n",
    "    if number<=1:\n",
    "        return False\n",
    "    for i in range(2,int(number**0.5)+1):\n",
    "        if (number%i==0):\n",
    "            return False\n",
    "        return True\n",
    "num=0        \n",
    "if checker(num):\n",
    "    print(\"Number is prime\")\n",
    "else:\n",
    "    print(\"Number is not prime\")"
   ]
  },
  {
   "cell_type": "code",
   "execution_count": null,
   "metadata": {},
   "outputs": [
    {
     "name": "stdout",
     "output_type": "stream",
     "text": [
      "The reversed of the string you entered is :  oko\n",
      "String is palindrome\n"
     ]
    }
   ],
   "source": [
    "# 4.Write a program in python to reverse a String using a function.\n",
    "# palindrome function\n",
    "def palindrome(check):\n",
    "    check=check.lower() #lower the string\n",
    "    check=''.join(i for i in check if i.isalnum())  \n",
    "    reversed=check[::-1] #make the string reversed\n",
    "    print(\"The reversed of the string you entered is : \",reversed)\n",
    "    return check==reversed\n",
    "\n",
    "name=input(\"enter the character \")\n",
    "if palindrome(name):\n",
    "    print(\"String is palindrome\")\n",
    "else:\n",
    "    print(\"String is not palindrome\")"
   ]
  },
  {
   "cell_type": "code",
   "execution_count": null,
   "metadata": {},
   "outputs": [
    {
     "name": "stdout",
     "output_type": "stream",
     "text": [
      "390625.0\n"
     ]
    }
   ],
   "source": [
    "#5 Write a program in python to calculate the power of a certain number. For e.g., 5^3=125\n",
    "import math\n",
    "base,exponential=map(int,input(\"First enter the number which you want to find result like (base) ^ ** and so also exponential (base)^(exp) and seperated them by comma\").split(','))\n",
    "result=math.pow(base,exponential)\n",
    "print(result)"
   ]
  },
  {
   "cell_type": "code",
   "execution_count": 26,
   "metadata": {},
   "outputs": [
    {
     "name": "stdout",
     "output_type": "stream",
     "text": [
      "the name are :\n",
      "1 -> bipul\n",
      "\n",
      "\n",
      "2 -> binesay\n",
      "\n",
      "\n"
     ]
    }
   ],
   "source": [
    "# Write a program in python to store 10 student names and print all using list.\n",
    "def name_input():\n",
    "    students=[]\n",
    "    no=int(input(\"how many name you want to input in the list\"))\n",
    "    for i in range(no):\n",
    "        name=input(f\"Please ! provide me the {i+1} name for further processing\")\n",
    "        students.append(name) # should display the given name\n",
    "    return students\n",
    "\n",
    "# displaying function\n",
    "def show(name):\n",
    "    print(\"the name are :\")\n",
    "    sn=1\n",
    "   \n",
    "    for i in name:\n",
    "      print(f\"{sn} -> {i}\")\n",
    "      print(\"\\n\")\n",
    "      sn=sn+1\n",
    "\n",
    "if __name__==\"__main__\":\n",
    "    ans=name_input()\n",
    "    show(ans)"
   ]
  },
  {
   "cell_type": "code",
   "execution_count": 43,
   "metadata": {},
   "outputs": [
    {
     "name": "stdout",
     "output_type": "stream",
     "text": [
      "1 are the :\n",
      "Ansin\n",
      "2 are the :\n",
      "sds\n",
      "sfd\n",
      "['Ansin', 'sds', 'sfd']\n"
     ]
    }
   ],
   "source": [
    "# Write a program in python to join two lists.\n",
    "# creating the list 1 and 2 using function\n",
    "def input_list1(num):\n",
    "    list_v=[]\n",
    "    for i in range(num):\n",
    "       items=input(f\" please provide me the {i+1}\")\n",
    "       list_v.append(items)\n",
    "    return list_v\n",
    "\n",
    "def show(list_n,lst):\n",
    "    print(f\"{lst} are the :\")\n",
    "    for i,item in enumerate(list_n,1):\n",
    "        print(f\"{item}\")\n",
    "        \n",
    "if __name__==\"__main__\":\n",
    "    n1=int(input(\"No of items in l1\"))\n",
    "    res1=input_list1(n1)\n",
    "    show(res1,1)\n",
    "    n2=int(input(\"No of items in l2\"))\n",
    "    res2=input_list1(n2)\n",
    "    show(res2,2)\n",
    "    # join them\n",
    "    com=res1+res2\n",
    "    print(com)"
   ]
  },
  {
   "cell_type": "code",
   "execution_count": 51,
   "metadata": {},
   "outputs": [
    {
     "name": "stdout",
     "output_type": "stream",
     "text": [
      "List : ['gdgd', \"5'\"]\n",
      "5 not found on ['gdgd', \"5'\"]\n"
     ]
    }
   ],
   "source": [
    "# Write a program in python to check list contains a given value or not.\n",
    "def check_list(my_list,value):\n",
    "    if value in my_list:\n",
    "        return True\n",
    "    else:\n",
    "        return False\n",
    "list1=[]\n",
    "no=int(input(\"how many no in list you want :\"))\n",
    "for i in range(no):\n",
    "    items=input(f\"please give me the item {i}\")\n",
    "    list1.append(items)\n",
    "print(\"List :\", list1)\n",
    "\n",
    "value=int(input(\"Enter the value which you want to check\"))\n",
    "if check_list(list1, value):\n",
    "    print(f\"{value} is present in {list1}\")\n",
    "else:\n",
    "    print ( f'{value} not found on {list1}')\n"
   ]
  }
 ],
 "metadata": {
  "kernelspec": {
   "display_name": "Python 3",
   "language": "python",
   "name": "python3"
  },
  "language_info": {
   "codemirror_mode": {
    "name": "ipython",
    "version": 3
   },
   "file_extension": ".py",
   "mimetype": "text/x-python",
   "name": "python",
   "nbconvert_exporter": "python",
   "pygments_lexer": "ipython3",
   "version": "3.11.5"
  },
  "orig_nbformat": 4
 },
 "nbformat": 4,
 "nbformat_minor": 2
}
