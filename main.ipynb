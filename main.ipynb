{
 "cells": [
  {
   "cell_type": "code",
   "execution_count": 1,
   "metadata": {},
   "outputs": [
    {
     "name": "stdout",
     "output_type": "stream",
     "text": [
      "<class 'int'>\n"
     ]
    }
   ],
   "source": [
    "# types of data in python in django\n",
    "#integrs,float,string\n",
    "\n",
    "\n",
    "x=70\n",
    "# str(x)\n",
    "print(type(x))\n"
   ]
  },
  {
   "cell_type": "code",
   "execution_count": 6,
   "metadata": {},
   "outputs": [
    {
     "name": "stdout",
     "output_type": "stream",
     "text": [
      "160.5\n",
      "<class 'float'>\n"
     ]
    }
   ],
   "source": [
    "x=75.5\n",
    "y=85.0\n",
    "print(x+y)\n",
    "print(type(x))\n"
   ]
  },
  {
   "cell_type": "markdown",
   "metadata": {},
   "source": []
  },
  {
   "cell_type": "code",
   "execution_count": 13,
   "metadata": {},
   "outputs": [
    {
     "name": "stdout",
     "output_type": "stream",
     "text": [
      "27\n",
      "27\n",
      "Hlo my name is bipul dawadi\n"
     ]
    }
   ],
   "source": [
    "# <!-- for string data types in python -->\n",
    "x='Hlo my name is bipul dawadi'\n",
    "y='namaste'\n",
    "print(len(x))\n",
    "# print('namaste' +  'Hlo my name is bipul' + ' dawadi')\n",
    "print(len(x))\n",
    "print(x)"
   ]
  },
  {
   "cell_type": "code",
   "execution_count": 19,
   "metadata": {},
   "outputs": [
    {
     "name": "stdout",
     "output_type": "stream",
     "text": [
      "<class 'int'>\n",
      "<class 'float'>\n",
      "<class 'str'>\n",
      "<class 'str'>\n",
      "<class 'int'>\n"
     ]
    },
    {
     "ename": "ValueError",
     "evalue": "could not convert string to float: 'python'",
     "output_type": "error",
     "traceback": [
      "\u001b[1;31m---------------------------------------------------------------------------\u001b[0m",
      "\u001b[1;31mValueError\u001b[0m                                Traceback (most recent call last)",
      "Cell \u001b[1;32mIn[19], line 13\u001b[0m\n\u001b[0;32m     11\u001b[0m y\u001b[39m=\u001b[39m\u001b[39mint\u001b[39m(\u001b[39m56.6\u001b[39m)\n\u001b[0;32m     12\u001b[0m \u001b[39mprint\u001b[39m(\u001b[39mtype\u001b[39m(y))\n\u001b[1;32m---> 13\u001b[0m z\u001b[39m=\u001b[39m\u001b[39mfloat\u001b[39;49m(\u001b[39m'\u001b[39;49m\u001b[39mpython\u001b[39;49m\u001b[39m'\u001b[39;49m)\n\u001b[0;32m     14\u001b[0m \u001b[39mprint\u001b[39m(\u001b[39mtype\u001b[39m(z))\n",
      "\u001b[1;31mValueError\u001b[0m: could not convert string to float: 'python'"
     ]
    }
   ],
   "source": [
    "# data type conversion from\n",
    "x=23\n",
    "y=56.6\n",
    "z='Python'\n",
    "print(type(x))\n",
    "print(type(y))\n",
    "print(type(z))\n",
    "# after conversion\n",
    "x=str(23)\n",
    "print(type(x))\n",
    "y=int(56.6)\n",
    "print(type(y))\n",
    "\n"
   ]
  },
  {
   "cell_type": "code",
   "execution_count": null,
   "metadata": {},
   "outputs": [],
   "source": []
  },
  {
   "cell_type": "code",
   "execution_count": null,
   "metadata": {},
   "outputs": [],
   "source": []
  },
  {
   "cell_type": "code",
   "execution_count": null,
   "metadata": {},
   "outputs": [],
   "source": []
  },
  {
   "cell_type": "code",
   "execution_count": null,
   "metadata": {},
   "outputs": [],
   "source": []
  },
  {
   "cell_type": "markdown",
   "metadata": {},
   "source": []
  },
  {
   "cell_type": "markdown",
   "metadata": {},
   "source": []
  },
  {
   "cell_type": "markdown",
   "metadata": {},
   "source": []
  },
  {
   "cell_type": "markdown",
   "metadata": {},
   "source": []
  },
  {
   "cell_type": "markdown",
   "metadata": {},
   "source": []
  },
  {
   "cell_type": "markdown",
   "metadata": {},
   "source": []
  },
  {
   "cell_type": "markdown",
   "metadata": {},
   "source": []
  },
  {
   "cell_type": "markdown",
   "metadata": {},
   "source": []
  },
  {
   "cell_type": "markdown",
   "metadata": {},
   "source": []
  },
  {
   "cell_type": "markdown",
   "metadata": {},
   "source": []
  },
  {
   "cell_type": "markdown",
   "metadata": {},
   "source": []
  },
  {
   "cell_type": "markdown",
   "metadata": {},
   "source": []
  }
 ],
 "metadata": {
  "kernelspec": {
   "display_name": "Python 3",
   "language": "python",
   "name": "python3"
  },
  "language_info": {
   "codemirror_mode": {
    "name": "ipython",
    "version": 3
   },
   "file_extension": ".py",
   "mimetype": "text/x-python",
   "name": "python",
   "nbconvert_exporter": "python",
   "pygments_lexer": "ipython3",
   "version": "3.11.4"
  },
  "orig_nbformat": 4
 },
 "nbformat": 4,
 "nbformat_minor": 2
}
