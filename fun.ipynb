{
 "cells": [
  {
   "cell_type": "markdown",
   "metadata": {},
   "source": [
    "In Python, there are several types of functions that you can define and use. Here are some of the most common types:\n",
    "\n",
    "1.Built-in Functions: These are functions that are provided by the Python programming language and are available for use without needing to define them. Examples include print(), len(), range(), etc.\n",
    "\n",
    "2.User-Defined Functions: These are functions that you define yourself using the def keyword. They allow you to group a set of statements into a single block of code that can be reused throughout your program.\n",
    "def my_function(parameters):\n",
    "    # Function body\n",
    "    # ...\n",
    "3.Anonymous Functions (Lambda Functions): These are small, unnamed functions that can have any number of arguments but can only have one expression. They are often used for short, simple operations.\n",
    "lambda_function = lambda x, y: x + y\n",
    "4.Recursive Functions: These are functions that call themselves in their own body. They are often used for solving problems that can be broken down into smaller instances of the same problem.\n",
    "def factorial(n):\n",
    "    if n == 0:\n",
    "        return 1\n",
    "    else:\n",
    "        return n * factorial(n - 1)\n",
    "5.Higher-Order Functions: These are functions that can take other functions as arguments and/or return functions as their results. They are commonly used in functional programming.\n",
    "def apply_function(func, x):\n",
    "    return func(x)\n",
    "6.Generator Functions: These functions use the yield keyword to create iterators, allowing you to iterate over a sequence of values without generating the entire sequence upfront. This is particularly useful for working with large datasets.\n",
    "def count_up_to(limit):\n",
    "    count = 1\n",
    "    while count <= limit:\n",
    "        yield count\n",
    "        count += 1\n",
    "7.Decorator Functions: Decorators are functions that modify the behavior of another function. They are often used for adding functionality to existing functions without modifying their source code.\n",
    "def my_decorator(func):\n",
    "    def wrapper():\n",
    "        print(\"Something is happening before the function is called.\")\n",
    "        func()\n",
    "        print(\"Something is happening after the function is called.\")\n",
    "    return wrapper\n",
    "\n",
    "@my_decorator\n",
    "def say_hello():\n",
    "    print(\"Hello!\")\n"
   ]
  },
  {
   "cell_type": "markdown",
   "metadata": {},
   "source": []
  }
 ],
 "metadata": {
  "language_info": {
   "name": "python"
  },
  "orig_nbformat": 4
 },
 "nbformat": 4,
 "nbformat_minor": 2
}
