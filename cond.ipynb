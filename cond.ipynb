{
 "cells": [
  {
   "cell_type": "markdown",
   "metadata": {},
   "source": [
    "Types of conditional formatter in python\n",
    "\n",
    "1.if condition\n",
    "    if condition:\n",
    "         # code to be executed if condition is true\n",
    "\n",
    "2.if else condtion\n",
    "    if condition:\n",
    "        # code to be executed if condition is true\n",
    "    else:\n",
    "        # code to be executed if condition is false\n",
    "\n",
    "3.if elseif else condition\n",
    "\n",
    "        if condition1:\n",
    "            # code to be executed if condition1 is true\n",
    "        elif condition2:\n",
    "            # code to be executed if condition2 is true\n",
    "        else:\n",
    "            # code to be executed if none of the conditions are true\n",
    "\n",
    "\n",
    "4.nested condition\n",
    "        if condition1:\n",
    "            if nested_condition:\n",
    "                # code to be executed if both condition1 and nested_condition are true\n",
    "        else:\n",
    "            # code to be executed if condition1 is true and nested_condition is false\n",
    "        else:\n",
    "            # code to be executed if condition1 is false\n",
    "5.Ternary condtion\n",
    "        value=true_value if condtion else false_value\n",
    "\n",
    "        "
   ]
  },
  {
   "cell_type": "markdown",
   "metadata": {},
   "source": [
    "# question for praticing\n",
    "1.Write a Python program to check if a given number is even or odd.\n",
    "2.Create a program that determines whether a year entered by the user is a leap year or not.\n",
    "3.Write a program to find the largest of three numbers entered by the user.\n",
    "4.Develop a calculator program that performs addition, subtraction, multiplication, or division based on user input.\n",
    "5.Create a program that checks whether a given character is a vowel or a consonant.\n",
    "6.Write a Python script that calculates the grade of a student based on their exam score.\n",
    "7.Develop a program that takes a number as input and prints its multiplication table.\n",
    "8.Create a simple login system where the user enters a username and password, and the program grants access if they match predefined values.\n",
    "9.Wr0ite a program that converts a temperature from Celsius to Fahrenheit or vice versa, based on user input.\n",
    "10.Develop a guessing game where the program generates a random number and the user has to guess it.\n",
    "11.Create a program that determines if a given string is a palindrome (reads the same forwards and backwards).\n",
    "12.Write a script that calculates the factorial of a positive integer entered by the user.\n",
    "13.Build a program that recommends a movie genre based on the user's mood (happy, sad, excited, etc.).\n",
    "14.Create a simple rock-paper-scissors game where the user plays against the computer.\n",
    "15.Write a program that checks if a given number is prime or not."
   ]
  },
  {
   "cell_type": "code",
   "execution_count": null,
   "metadata": {},
   "outputs": [
    {
     "name": "stdout",
     "output_type": "stream",
     "text": [
      "The value entered is :  [56]\n"
     ]
    }
   ],
   "source": [
    "# Entering the value in list\n",
    "num=(input(\"Enter a number in the list :\"))\n",
    "int_num=num.split()\n",
    "list=[int(i) for i in int_num]\n",
    "\n",
    "print(\"The value entered is : \",list)"
   ]
  },
  {
   "cell_type": "code",
   "execution_count": null,
   "metadata": {},
   "outputs": [
    {
     "name": "stdout",
     "output_type": "stream",
     "text": [
      "The string in the list are ['']\n"
     ]
    }
   ],
   "source": [
    "# Entering the str in list\n",
    "# Entering the str in list\n",
    "str=input(\"Enter the string the list \")\n",
    "str_list=str.split(',')\n",
    "print(\"The string in the list are\",str_list)"
   ]
  },
  {
   "cell_type": "code",
   "execution_count": null,
   "metadata": {},
   "outputs": [
    {
     "name": "stdout",
     "output_type": "stream",
     "text": [
      "The number is not valid\n"
     ]
    }
   ],
   "source": [
    "# entering single number\n",
    "try:\n",
    "    number=int(input(\"Enter the number\"))\n",
    "    print(\"Number\",number)\n",
    "except ValueError:\n",
    "    print(\"The number is not valid\")"
   ]
  },
  {
   "cell_type": "code",
   "execution_count": null,
   "metadata": {},
   "outputs": [
    {
     "name": "stdout",
     "output_type": "stream",
     "text": [
      "The number are not correct\n"
     ]
    }
   ],
   "source": [
    "# entering mullitple number\n",
    "# entering mullitple number\n",
    "try:\n",
    "    num1,num2=map(int,input(\"Enter a two number for addition purpose\").split())\n",
    "    sum=num1+num2\n",
    "    print(\"The number are :\",sum)\n",
    "except ValueError:\n",
    "    print(\"The number are not correct\")"
   ]
  },
  {
   "cell_type": "code",
   "execution_count": null,
   "metadata": {},
   "outputs": [
    {
     "name": "stdout",
     "output_type": "stream",
     "text": [
      "The number you entered is not a integrs number :\n"
     ]
    }
   ],
   "source": [
    "# 1.Write a Python program to check if a given number is even or odd.\n",
    "try:\n",
    "    number=int(input('Enter the number to check if it is odd or even'))\n",
    "    print('The number you entered is :',number)\n",
    "    if number % 2 ==0:\n",
    "        print(number,'is even value')\n",
    "    else:\n",
    "        print(number,'is odd value')\n",
    "except ValueError:\n",
    "    print('The number you entered is not a integrs number :',number)"
   ]
  },
  {
   "cell_type": "code",
   "execution_count": null,
   "metadata": {},
   "outputs": [
    {
     "name": "stdout",
     "output_type": "stream",
     "text": [
      "2020 is  a leap year\n"
     ]
    }
   ],
   "source": [
    "# 2.Create a program that determines whether a year entered by the user is a leap year or not.\n",
    "year=int(input('Enter the year : '))\n",
    "if(year%4==0 and year % 100!=0) or (year%400==0):\n",
    "    print(f\"{year} is  a leap year\")\n",
    "else:\n",
    "    print(f\"{year} is  not a leap year\")\n",
    "    "
   ]
  },
  {
   "cell_type": "code",
   "execution_count": null,
   "metadata": {},
   "outputs": [
    {
     "name": "stdout",
     "output_type": "stream",
     "text": [
      "6556415231 is large number\n"
     ]
    }
   ],
   "source": [
    "# 3.Write a program to find the largest of three numbers entered by the user\n",
    "num1,num2,num3=map(int,input(\"Enter the three number for largest value\").split())\n",
    "# print(num1,num2,num3)\n",
    "if num1>num2:\n",
    "    if num1>num3:\n",
    "        print(f\"{num1} is largest number\")\n",
    "    else:\n",
    "        print(f\"{num3} is largest number\")\n",
    "else:\n",
    "    if num2>num3:\n",
    "        print(f\"{num2} is largest number\")\n",
    "    else:\n",
    "        print(f\"{num3} is largest number\")"
   ]
  },
  {
   "cell_type": "code",
   "execution_count": null,
   "metadata": {},
   "outputs": [
    {
     "name": "stdout",
     "output_type": "stream",
     "text": [
      "1.Addition of number\n",
      "2.Subtraction of number\n",
      "3.multiplication of number\n",
      "4.Division of number\n",
      "5.Modulus of number\n",
      "You can't divide by zero\n",
      "4.0/0.0=None\n"
     ]
    }
   ],
   "source": [
    "# 4.Develop a calculator program that performs addition, subtraction, multiplication, or division based on user input\n",
    "def add(x,y):\n",
    "    return x+y\n",
    "\n",
    "def subtract(x,y):\n",
    "    return x-y\n",
    "\n",
    "def multiply(x,y):\n",
    "    return x*y\n",
    "\n",
    "def division(x,y):\n",
    "    try:\n",
    "        if y==0:\n",
    "             print(\"You can't divide by zero\")\n",
    "             return None\n",
    "        else:\n",
    "            return x/y\n",
    "        \n",
    "    except ZeroDivisionError:\n",
    "        print('You cannot divide by zero')\n",
    "        return None\n",
    "    \n",
    "def mod(x,y):\n",
    "    return x%y\n",
    "\n",
    "print('1.Addition of number')\n",
    "print('2.Subtraction of number')\n",
    "print('3.multiplication of number')\n",
    "print('4.Division of number')\n",
    "print('5.Modulus of number')\n",
    "\n",
    "choices=int(input('Enter your choices:'))\n",
    "\n",
    "x,y=map(float,input('Two number please :').split())\n",
    "\n",
    "if choices==1:\n",
    "    print(f\"{x}+{y} = {add(x,y)}\")\n",
    "elif choices==2:\n",
    "    print(f\"{x}-{y}= {subtract(x,y)}\")\n",
    "elif choices==3:\n",
    "    print(f\"{x}*{y}={multiply(x,y)}\")\n",
    "elif choices==4:\n",
    "       print(f\"{x}/{y}={division(x,y)}\")\n",
    "else:\n",
    "       print(f\"{x}%{y}={mod(x/y)}\")"
   ]
  },
  {
   "cell_type": "code",
   "execution_count": null,
   "metadata": {},
   "outputs": [
    {
     "name": "stdout",
     "output_type": "stream",
     "text": [
      "Enter the single letter\n"
     ]
    }
   ],
   "source": [
    "# 5.Create a program that checks whether a given character is a vowel or a consonant.\n",
    "def vowel(char):\n",
    "    vowels=\"aeiouAEIOU\"\n",
    "    return char in vowels\n",
    "\n",
    "char=input(\"Enter the character\")\n",
    "\n",
    "if len(char)==1:\n",
    "    if vowel(char):\n",
    "        print(f\"{char} is vowel letter\")\n",
    "    else:\n",
    "        print(f\"{char} is constant letter\")\n",
    "else:\n",
    "    print(\"Enter the single letter\")"
   ]
  },
  {
   "cell_type": "code",
   "execution_count": null,
   "metadata": {},
   "outputs": [
    {
     "name": "stdout",
     "output_type": "stream",
     "text": [
      "Enter the number that lie between 0 and 100\n"
     ]
    }
   ],
   "source": [
    "# 6.Write a Python script that calculates the grade of a student based on their exam score.\n",
    "def calculate_grade(tmarks):\n",
    "    if tmarks >= 90:\n",
    "        return 'A'\n",
    "    elif tmarks  >= 80:\n",
    "        return \"B\"\n",
    "    elif tmarks >= 70:\n",
    "        return \"C\"\n",
    "    elif tmarks >= 60:\n",
    "        return \"D\"\n",
    "    else:\n",
    "        return \"F\"\n",
    "\n",
    "\n",
    "try:\n",
    "    marks=float(input(\"Enter the marks you obtained\"))\n",
    "    grade=calculate_grade(marks)\n",
    "    if 0 <= marks and 100 >= marks:\n",
    "        print(f\"{marks} obtained and your grade is : {grade}\")\n",
    "    else:\n",
    "        print('Enter the number that lie between 0 and 100')\n",
    "except ValueError:\n",
    "    printf(\"ValueError occurred\")\n"
   ]
  },
  {
   "cell_type": "code",
   "execution_count": null,
   "metadata": {},
   "outputs": [
    {
     "name": "stdout",
     "output_type": "stream",
     "text": [
      "\n",
      "788 * 1 = 788\n",
      "\n",
      "\n",
      "788 * 2 = 1576\n",
      "\n",
      "\n",
      "788 * 3 = 2364\n",
      "\n",
      "\n",
      "788 * 4 = 3152\n",
      "\n",
      "\n",
      "788 * 5 = 3940\n",
      "\n",
      "\n",
      "788 * 6 = 4728\n",
      "\n",
      "\n",
      "788 * 7 = 5516\n",
      "\n",
      "\n",
      "788 * 8 = 6304\n",
      "\n",
      "\n",
      "788 * 9 = 7092\n",
      "\n",
      "\n",
      "788 * 10 = 7880\n",
      "\n"
     ]
    }
   ],
   "source": [
    "# 7.Develop a program that takes a number as input and prints its multiplication table.\n",
    "\n",
    "try:\n",
    "    number=int(input('Enter the number that is used for multiplaction'))\n",
    "    for i in range(1,11):\n",
    "        multiplication=number * i\n",
    "        print(f\"\\n{number} * {i} = {multiplication}\\n\")\n",
    "except ValueError :\n",
    "    print('provide a valid number')"
   ]
  },
  {
   "cell_type": "code",
   "execution_count": null,
   "metadata": {},
   "outputs": [
    {
     "name": "stdout",
     "output_type": "stream",
     "text": [
      "Invalid user name\n"
     ]
    }
   ],
   "source": [
    "# 8.Create a simple login system where the user enters a username and password, and the program grants access if they match predefined values.\n",
    "\n",
    "valid_user=\"user123\"\n",
    "valid_pass=\"pass123\"\n",
    "try:\n",
    "    username=input('Provide Username\\n')\n",
    "    password=input('Provide Password\\n')\n",
    "    if username==valid_user:\n",
    "        if password==valid_pass:\n",
    "            print(\"Successfully login\")\n",
    "        else:\n",
    "            print(\"Wrong password\")\n",
    "    else:\n",
    "        print(\"Invalid user name\")\n",
    "except ValueError:\n",
    "    print(\"Invalid username or password\")\n",
    "            \n",
    "    \n",
    "\n"
   ]
  },
  {
   "cell_type": "code",
   "execution_count": null,
   "metadata": {},
   "outputs": [
    {
     "name": "stdout",
     "output_type": "stream",
     "text": [
      "\n",
      "1.Celsius to Fahrenheit\n",
      "2.Fahrenheit to Celsius\n",
      "32.0 C :89.60 F\n"
     ]
    }
   ],
   "source": [
    "# 9.Write a program that converts a temperature from Celsius to Fahrenheit or vice versa, based on user input.\n",
    "# Celsius to Fahrenheit:\n",
    "# Fahrenheit (°F) = (Celsius (°C) × 9/5) + 32\n",
    "\n",
    "# Fahrenheit to Celsius:\n",
    "# Celsius (°C) = (Fahrenheit (°F) - 32) × 5/9\n",
    "\n",
    "def F(temp): #Fahrenheit to Celsius\n",
    "    celsius=(temp-32)*5/9\n",
    "    return celsius\n",
    "def C(temp): #Celsius to Fahrenheit\n",
    "    Fahrenheit=(temp*9/5)+32\n",
    "    return Fahrenheit\n",
    "choices=print(\"\\n1.Celsius to Fahrenheit\\n2.Fahrenheit to Celsius\")\n",
    "choices=int(input('Enter the choices'))\n",
    "if choices==1:\n",
    "    temperature=float(input('Enter the temperature : '))\n",
    "    res=C(temperature)\n",
    "    print(f\"{temperature} C :{res:.2f} F\")\n",
    "elif choices==2:\n",
    "    temperature=float(input('Enter the temperature : '))\n",
    "    res=F(temperature)\n",
    "    print(f\"{temperature} F :{res: .2f} C\")\n",
    "else:\n",
    "    print(\"wrong value\")"
   ]
  },
  {
   "cell_type": "code",
   "execution_count": 43,
   "metadata": {},
   "outputs": [
    {
     "name": "stdout",
     "output_type": "stream",
     "text": [
      "144\n",
      "provide valid number\n",
      "Guess is so low\n",
      "provide valid number\n",
      "provide valid number\n",
      "provide valid number\n",
      "Guess is so low\n",
      "Guess is so low\n",
      "Guess is so low\n",
      "Guess is so low\n",
      "Correct\n",
      "provide valid number\n",
      "provide valid number\n",
      "provide valid number\n",
      "provide valid number\n",
      "provide valid number\n",
      "Guess is so low\n",
      "provide valid number\n",
      "provide valid number\n",
      "provide valid number\n",
      "provide valid number\n",
      "provide valid number\n",
      "Guess is so low\n"
     ]
    }
   ],
   "source": []
  },
  {
   "cell_type": "code",
   "execution_count": 1,
   "metadata": {},
   "outputs": [
    {
     "name": "stdout",
     "output_type": "stream",
     "text": [
      "141\n",
      "Correct\n",
      "None\n",
      "provide valid number\n",
      "provide valid number\n",
      "Guess is so low\n",
      "None\n"
     ]
    }
   ],
   "source": [
    "# 10.Develop a guessing game where the program generates a random number and the user has to guess it.\n",
    "import random\n",
    "# rand=[]\n",
    "# for _ in range(1):\n",
    "#     rand.append(random.randint(0,1000))\n",
    "# print(rand)\n",
    "\n"
   ]
  },
  {
   "cell_type": "code",
   "execution_count": 1,
   "metadata": {},
   "outputs": [
    {
     "name": "stdout",
     "output_type": "stream",
     "text": [
      "Too low\n",
      "Please enter a valid number.\n",
      "Please enter a valid number.\n",
      "Please enter a valid number.\n",
      "Please enter a valid number.\n",
      "Please enter a valid number.\n"
     ]
    }
   ],
   "source": [
    "# 10.Develop a guessing game where the program generates a random number and the user has to guess it.\n",
    "import random\n",
    "# rand=[]\n",
    "# for _ in range(1):\n",
    "#     rand.append(random.randint(0,1000))\n",
    "# print(rand)\n",
    "import random\n",
    "\n",
    "# Generate a random number between 0 and 1000\n",
    "random_number = random.randint(0, 1000)\n",
    "\n",
    "def user_guess(number):\n",
    "    if number < random_number:\n",
    "        return \"Too low\"\n",
    "    elif number > random_number:\n",
    "        return \"Too high\"\n",
    "    else:\n",
    "        return \"Correct!\"\n",
    "\n",
    "while True:\n",
    "    try:\n",
    "        guess = int(input(\"Enter your guess: \"))\n",
    "        result = user_guess(guess)\n",
    "        print(result)\n",
    "\n",
    "        if result == \"Correct!\":\n",
    "            break\n",
    "    except ValueError:\n",
    "        print(\"Please enter a valid number.\")\n",
    "\n"
   ]
  },
  {
   "cell_type": "code",
   "execution_count": 5,
   "metadata": {},
   "outputs": [
    {
     "name": "stdout",
     "output_type": "stream",
     "text": [
      "The quick brown fox jumps over a lazy dog is  not a palindrome\n"
     ]
    }
   ],
   "source": [
    "# 11.Create a program that determines if a given string is a palindrome (reads the same forwards and backwards).\n",
    "\n",
    "def palindrome(char):\n",
    "    name=''.join(i.lower() for i in char if i.isalnum()) # this logic is used to first lower the letter and remove the numeric value in it\n",
    "    rev_name=name[::-1]\n",
    "    return name == rev_name\n",
    "\n",
    "char=input('Enter the character')\n",
    "if palindrome(char):\n",
    "    print(f\"{char} is palindrome\")\n",
    "else:\n",
    "    print(f\"{char} is  not a palindrome\")\n",
    "    "
   ]
  }
 ],
 "metadata": {
  "kernelspec": {
   "display_name": "Python 3",
   "language": "python",
   "name": "python3"
  },
  "language_info": {
   "codemirror_mode": {
    "name": "ipython",
    "version": 3
   },
   "file_extension": ".py",
   "mimetype": "text/x-python",
   "name": "python",
   "nbconvert_exporter": "python",
   "pygments_lexer": "ipython3",
   "version": "3.11.5"
  },
  "orig_nbformat": 4
 },
 "nbformat": 4,
 "nbformat_minor": 2
}
