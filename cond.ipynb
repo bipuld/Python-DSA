{
 "cells": [
  {
   "cell_type": "markdown",
   "metadata": {},
   "source": [
    "Types of conditional formatter in python\n",
    "\n",
    "1.if condition\n",
    "    if condition:\n",
    "         # code to be executed if condition is true\n",
    "\n",
    "2.if else condtion\n",
    "    if condition:\n",
    "        # code to be executed if condition is true\n",
    "    else:\n",
    "        # code to be executed if condition is false\n",
    "\n",
    "3.if elseif else condition\n",
    "\n",
    "        if condition1:\n",
    "            # code to be executed if condition1 is true\n",
    "        elif condition2:\n",
    "            # code to be executed if condition2 is true\n",
    "        else:\n",
    "            # code to be executed if none of the conditions are true\n",
    "\n",
    "\n",
    "4.nested condition\n",
    "        if condition1:\n",
    "            if nested_condition:\n",
    "                # code to be executed if both condition1 and nested_condition are true\n",
    "        else:\n",
    "            # code to be executed if condition1 is true and nested_condition is false\n",
    "        else:\n",
    "            # code to be executed if condition1 is false\n",
    "5.Ternary condtion\n",
    "        value=true_value if condtion else false_value\n",
    "\n",
    "        "
   ]
  },
  {
   "cell_type": "markdown",
   "metadata": {},
   "source": [
    "# question for praticing\n",
    "1.Write a Python program to check if a given number is even or odd.\n",
    "2.Create a program that determines whether a year entered by the user is a leap year or not.\n",
    "3.Write a program to find the largest of three numbers entered by the user.\n",
    "4.Develop a calculator program that performs addition, subtraction, multiplication, or division based on user input.\n",
    "5.Create a program that checks whether a given character is a vowel or a consonant.\n",
    "6.Write a Python script that calculates the grade of a student based on their exam score.\n",
    "7.Develop a program that takes a number as input and prints its multiplication table.\n",
    "8.Create a simple login system where the user enters a username and password, and the program grants access if they match predefined values.\n",
    "9.Wr0ite a program that converts a temperature from Celsius to Fahrenheit or vice versa, based on user input.\n",
    "10.Develop a guessing game where the program generates a random number and the user has to guess it.\n",
    "11.Create a program that determines if a given string is a palindrome (reads the same forwards and backwards).\n",
    "12.Write a script that calculates the factorial of a positive integer entered by the user.\n",
    "13.Build a program that recommends a movie genre based on the user's mood (happy, sad, excited, etc.).\n",
    "14.Create a simple rock-paper-scissors game where the user plays against the computer.\n",
    "15.Write a program that checks if a given number is prime or not."
   ]
  },
  {
   "cell_type": "code",
   "execution_count": 14,
   "metadata": {},
   "outputs": [
    {
     "name": "stdout",
     "output_type": "stream",
     "text": [
      "The  list is : [6]\n"
     ]
    }
   ],
   "source": [
    "# Entering the value in list\n",
    "number=input('Enter a number in list : ')\n",
    "num=number.split()\n",
    "list=[int(i) for i in num]\n",
    "print('The  list is :',list)"
   ]
  },
  {
   "cell_type": "code",
   "execution_count": 15,
   "metadata": {},
   "outputs": [
    {
     "name": "stdout",
     "output_type": "stream",
     "text": [
      "The  list is : ['ssf ssf sfsf']\n"
     ]
    }
   ],
   "source": [
    "# Entering the str in list\n",
    "number=input('Enter a str in list sperated by comma : ')\n",
    "num=number.split(',')\n",
    "print('The  list is :',num)"
   ]
  },
  {
   "cell_type": "code",
   "execution_count": 18,
   "metadata": {},
   "outputs": [
    {
     "name": "stdout",
     "output_type": "stream",
     "text": [
      "Not a number invalid\n"
     ]
    }
   ],
   "source": [
    "# entering single number\n",
    "try:\n",
    "    num=int(input('Enter a number :'))\n",
    "    print('Num',num)\n",
    "except ValueError:\n",
    "    print('Not a number invalid')"
   ]
  },
  {
   "cell_type": "code",
   "execution_count": 20,
   "metadata": {},
   "outputs": [
    {
     "name": "stdout",
     "output_type": "stream",
     "text": [
      "108\n"
     ]
    }
   ],
   "source": [
    "# entering mullitple number\n",
    "try:\n",
    "    num1,num2=map(int,(input('Enter a two integrs num:').split()))\n",
    "    sum=num1+num2\n",
    "    print(sum)\n",
    "except ValueError:\n",
    "    print('Please enter a number a valid  integrs number')"
   ]
  }
 ],
 "metadata": {
  "kernelspec": {
   "display_name": "Python 3",
   "language": "python",
   "name": "python3"
  },
  "language_info": {
   "codemirror_mode": {
    "name": "ipython",
    "version": 3
   },
   "file_extension": ".py",
   "mimetype": "text/x-python",
   "name": "python",
   "nbconvert_exporter": "python",
   "pygments_lexer": "ipython3",
   "version": "3.11.4"
  },
  "orig_nbformat": 4
 },
 "nbformat": 4,
 "nbformat_minor": 2
}
