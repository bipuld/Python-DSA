{
 "cells": [
  {
   "cell_type": "markdown",
   "metadata": {},
   "source": [
    "Types of conditional formatter in python\n",
    "\n",
    "1.if condition\n",
    "    if condition:\n",
    "         # code to be executed if condition is true\n",
    "\n",
    "2.if else condtion\n",
    "    if condition:\n",
    "        # code to be executed if condition is true\n",
    "    else:\n",
    "        # code to be executed if condition is false\n",
    "\n",
    "3.if elseif else condition\n",
    "\n",
    "        if condition1:\n",
    "            # code to be executed if condition1 is true\n",
    "        elif condition2:\n",
    "            # code to be executed if condition2 is true\n",
    "        else:\n",
    "            # code to be executed if none of the conditions are true\n",
    "\n",
    "\n",
    "4.nested condition\n",
    "        if condition1:\n",
    "            if nested_condition:\n",
    "                # code to be executed if both condition1 and nested_condition are true\n",
    "        else:\n",
    "            # code to be executed if condition1 is true and nested_condition is false\n",
    "        else:\n",
    "            # code to be executed if condition1 is false\n",
    "5.Ternary condtion\n",
    "        value=true_value if condtion else false_value\n",
    "\n",
    "        "
   ]
  },
  {
   "cell_type": "markdown",
   "metadata": {},
   "source": [
    "# question for praticing\n",
    "1.Write a Python program to check if a given number is even or odd.\n",
    "2.Create a program that determines whether a year entered by the user is a leap year or not.\n",
    "3.Write a program to find the largest of three numbers entered by the user.\n",
    "4.Develop a calculator program that performs addition, subtraction, multiplication, or division based on user input.\n",
    "5.Create a program that checks whether a given character is a vowel or a consonant.\n",
    "6.Write a Python script that calculates the grade of a student based on their exam score.\n",
    "7.Develop a program that takes a number as input and prints its multiplication table.\n",
    "8.Create a simple login system where the user enters a username and password, and the program grants access if they match predefined values.\n",
    "9.Wr0ite a program that converts a temperature from Celsius to Fahrenheit or vice versa, based on user input.\n",
    "10.Develop a guessing game where the program generates a random number and the user has to guess it.\n",
    "11.Create a program that determines if a given string is a palindrome (reads the same forwards and backwards).\n",
    "12.Write a script that calculates the factorial of a positive integer entered by the user.\n",
    "13.Build a program that recommends a movie genre based on the user's mood (happy, sad, excited, etc.).\n",
    "14.Create a simple rock-paper-scissors game where the user plays against the computer.\n",
    "15.Write a program that checks if a given number is prime or not."
   ]
  },
  {
   "cell_type": "code",
   "execution_count": 5,
   "metadata": {},
   "outputs": [
    {
     "ename": "ValueError",
     "evalue": "invalid literal for int() with base 10: '5 8 9 45'",
     "output_type": "error",
     "traceback": [
      "\u001b[1;31m---------------------------------------------------------------------------\u001b[0m",
      "\u001b[1;31mValueError\u001b[0m                                Traceback (most recent call last)",
      "Cell \u001b[1;32mIn[5], line 2\u001b[0m\n\u001b[0;32m      1\u001b[0m \u001b[39m# Entering the value in list\u001b[39;00m\n\u001b[1;32m----> 2\u001b[0m num\u001b[39m=\u001b[39m\u001b[39mint\u001b[39;49m(\u001b[39minput\u001b[39;49m(\u001b[39m\"\u001b[39;49m\u001b[39mEnter a number in the list :\u001b[39;49m\u001b[39m\"\u001b[39;49m))\n\u001b[0;32m      3\u001b[0m int_num\u001b[39m=\u001b[39mnum\u001b[39m.\u001b[39msplit()\n\u001b[0;32m      4\u001b[0m \u001b[39mlist\u001b[39m\u001b[39m=\u001b[39m[\u001b[39mint\u001b[39m(i) \u001b[39mfor\u001b[39;00m i \u001b[39min\u001b[39;00m int_num]\n",
      "\u001b[1;31mValueError\u001b[0m: invalid literal for int() with base 10: '5 8 9 45'"
     ]
    }
   ],
   "source": [
    "# Entering the value in list\n",
    "num=(input(\"Enter a number in the list :\"))\n",
    "int_num=num.split()\n",
    "list=[int(i) for i in int_num]\n",
    "print(\"The value entered is : \",list)"
   ]
  },
  {
   "cell_type": "code",
   "execution_count": 4,
   "metadata": {},
   "outputs": [
    {
     "name": "stdout",
     "output_type": "stream",
     "text": [
      "The string in the list are ['sf', 'sf', 'sfsf']\n"
     ]
    }
   ],
   "source": [
    "# Entering the str in list\n",
    "# Entering the str in list\n",
    "str=input(\"Enter the string the list \")\n",
    "str_list=str.split(',')\n",
    "print(\"The string in the list are\",str_list)"
   ]
  },
  {
   "cell_type": "code",
   "execution_count": 8,
   "metadata": {},
   "outputs": [
    {
     "name": "stdout",
     "output_type": "stream",
     "text": [
      "The number is not valid\n"
     ]
    }
   ],
   "source": [
    "# entering single number\n",
    "try:\n",
    "    number=int(input(\"Enter the number\"))\n",
    "    print(\"Number\",number)\n",
    "except ValueError:\n",
    "    print(\"The number is not valid\")"
   ]
  },
  {
   "cell_type": "code",
   "execution_count": 11,
   "metadata": {},
   "outputs": [
    {
     "name": "stdout",
     "output_type": "stream",
     "text": [
      "The number are not correct\n"
     ]
    }
   ],
   "source": [
    "# entering mullitple number\n",
    "# entering mullitple number\n",
    "try:\n",
    "    num1,num2=map(int,input(\"Enter a two number for addition purpose\").split())\n",
    "    sum=num1+num2\n",
    "    print(\"The number are :\",sum)\n",
    "except ValueError:\n",
    "    print(\"The number are not correct\")"
   ]
  }
 ],
 "metadata": {
  "kernelspec": {
   "display_name": "Python 3",
   "language": "python",
   "name": "python3"
  },
  "language_info": {
   "codemirror_mode": {
    "name": "ipython",
    "version": 3
   },
   "file_extension": ".py",
   "mimetype": "text/x-python",
   "name": "python",
   "nbconvert_exporter": "python",
   "pygments_lexer": "ipython3",
   "version": "3.11.4"
  },
  "orig_nbformat": 4
 },
 "nbformat": 4,
 "nbformat_minor": 2
}
