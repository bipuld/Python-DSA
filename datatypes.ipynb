{
 "cells": [
  {
   "cell_type": "code",
   "execution_count": 25,
   "metadata": {},
   "outputs": [
    {
     "name": "stdout",
     "output_type": "stream",
     "text": [
      "['apple', 'banana', 'orange', 'grape']\n",
      "<class 'list'>\n",
      "4\n"
     ]
    }
   ],
   "source": [
    "# list data types in pythonn\n",
    "fruits = [\"apple\", \"banana\", \"orange\", \"grape\"]\n",
    "print(fruits)\n",
    "print(type(fruits))\n",
    "print(len(fruits))"
   ]
  },
  {
   "cell_type": "code",
   "execution_count": 26,
   "metadata": {},
   "outputs": [
    {
     "name": "stdout",
     "output_type": "stream",
     "text": [
      "orange\n",
      "apple\n",
      "orange\n",
      "['banana', 'orange']\n"
     ]
    }
   ],
   "source": [
    "# some of the function in list method\n",
    "# get the  data  in form the list\n",
    "print(fruits[2])\n",
    "print(fruits[0])\n",
    "print(fruits[-2])\n",
    "print(fruits[1:-1])\n",
    "\n"
   ]
  },
  {
   "cell_type": "code",
   "execution_count": 27,
   "metadata": {},
   "outputs": [
    {
     "name": "stdout",
     "output_type": "stream",
     "text": [
      "['Guava', 'mango', 'banana', 'orange', 'grape', 'Dragon Fruits']\n",
      "6\n"
     ]
    }
   ],
   "source": [
    "# to add data in the give list by using append function ,insert function\n",
    "fruits[0]='Guava'\n",
    "fruits.insert(1,'mango')\n",
    "fruits.append('Dragon Fruits')\n",
    "print(fruits)\n",
    "print(len(fruits))\n"
   ]
  },
  {
   "cell_type": "code",
   "execution_count": 28,
   "metadata": {},
   "outputs": [
    {
     "name": "stdout",
     "output_type": "stream",
     "text": [
      "['Mango']\n"
     ]
    }
   ],
   "source": [
    "fruits = [\"apple\", \"banana\", \"orange\", \"grape\"]\n",
    "fruits.append('Mango')\n",
    "fruits.remove(\"grape\") #remove method\n",
    "fruits.pop(1) #pop method\n",
    "del fruits[0] #del method\n",
    "i=[j for j in fruits  if j!='orange']\n",
    "\n",
    "\n",
    "print(i)\n"
   ]
  },
  {
   "cell_type": "code",
   "execution_count": 29,
   "metadata": {},
   "outputs": [
    {
     "name": "stdout",
     "output_type": "stream",
     "text": [
      "['The Great Gatsby', 'To Kill a Mockingbird', 'Pride and Prejudice', 'The Lord of the Rings', \"Harry Potter and the Sorcerer's Stone\"]\n",
      "['To Kill a Mockingbird', 'Pride and Prejudice', 'The Lord of the Rings', \"Harry Potter and the Sorcerer's Stone\"]\n",
      "['To Kill a Mockingbird', 'Pride and Prejudice', 'The Lord of the Rings']\n",
      "['Pride and Prejudice', 'The Lord of the Rings']\n"
     ]
    }
   ],
   "source": [
    "# Creating a list of books\n",
    "book_titles = [\n",
    "    \"The Great Gatsby\",\n",
    "    \"To Kill a Mockingbird\",\n",
    "    \"1984\",\n",
    "    \"Pride and Prejudice\",\n",
    "    \"The Lord of the Rings\",\n",
    "    \"Harry Potter and the Sorcerer's Stone\"\n",
    "]\n",
    "# print(book_titles)\n",
    "# book_titles.append('python list')\n",
    "# book_titles.insert(0,'The Great Gatsby 2')\n",
    "# book_titles[2]='1986'\n",
    "# print(book_titles)\n",
    "# removing book contents\n",
    "book_titles.remove('1984')\n",
    "print(book_titles)\n",
    "book_titles.pop(0)\n",
    "print(book_titles)\n",
    "del book_titles[3]\n",
    "print(book_titles)\n",
    "book_name=[name for name  in book_titles if name!='To Kill a Mockingbird']\n",
    "print(book_name)"
   ]
  },
  {
   "cell_type": "code",
   "execution_count": 37,
   "metadata": {},
   "outputs": [
    {
     "name": "stdout",
     "output_type": "stream",
     "text": [
      "orginal number before sorted [9876543210, 1234567890, 5432109876, 6789012345, 8765432109, 2345678901]\n",
      "[1234567890, 2345678901, 5432109876, 6789012345, 8765432109, 9876543210]\n",
      "[9876543210, 8765432109, 6789012345, 5432109876, 2345678901, 1234567890]\n"
     ]
    }
   ],
   "source": [
    "# Creating a list of larger numbers\n",
    "numbers = [9876543210, 1234567890, 5432109876, 6789012345, 8765432109, 2345678901]\n",
    "\n",
    "print('orginal number before sorted', numbers)\n",
    "asc=sorted(numbers) #ascending orders \n",
    "print(asc)\n",
    "desc=sorted(numbers,reverse=True) #descinding orders\n",
    "print(desc)\n"
   ]
  }
 ],
 "metadata": {
  "kernelspec": {
   "display_name": "Python 3",
   "language": "python",
   "name": "python3"
  },
  "language_info": {
   "codemirror_mode": {
    "name": "ipython",
    "version": 3
   },
   "file_extension": ".py",
   "mimetype": "text/x-python",
   "name": "python",
   "nbconvert_exporter": "python",
   "pygments_lexer": "ipython3",
   "version": "3.11.5"
  },
  "orig_nbformat": 4
 },
 "nbformat": 4,
 "nbformat_minor": 2
}
