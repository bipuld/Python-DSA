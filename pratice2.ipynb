{
 "cells": [
  {
   "cell_type": "code",
   "execution_count": null,
   "metadata": {},
   "outputs": [],
   "source": [
    "Write a python program to check if the number is odd or even.\n",
    "Write a python program to check whether a character is a vowel or consonant.\n",
    "Write a python program to check whether a number is positive, negative, or zero.\n",
    "Write a python program to print your name 100 times.\n",
    "Write a python program to round a number in n decimal places.\n",
    "Write a python program to calculate the sum of natural numbers.\n",
    "Write a python program to generate multiplication tables of 5.\n",
    "Write a python program to generate multiplication tables of 1 -9.\n",
    "Write a python program to create a simple calculator using a switch case.\n",
    "Write a python program to print 1 to 100 but not 41."
   ]
  },
  {
   "cell_type": "code",
   "execution_count": 6,
   "metadata": {},
   "outputs": [
    {
     "name": "stdout",
     "output_type": "stream",
     "text": [
      "86 is Even number\n"
     ]
    }
   ],
   "source": [
    "# 1.Write a python program to check if the number is odd or even.\n",
    "number=int(input(\"Enter the number for checking odd or even\"))\n",
    "if number%2==0:\n",
    "    print(f\"{number} is Even number\")\n",
    "else:\n",
    "    print(f\"{number} is Odd number\")"
   ]
  },
  {
   "cell_type": "code",
   "execution_count": 8,
   "metadata": {},
   "outputs": [
    {
     "name": "stdout",
     "output_type": "stream",
     "text": [
      "i is a vowel\n"
     ]
    }
   ],
   "source": [
    "# 2.Write a python program to check whether a character is a vowel or consonant.\n",
    "character=input(\"Enter the character is : \")\n",
    "if(character=='a'or character=='e' or character=='i'or character=='o'or character=='u'):\n",
    "    print(f\"{character} is a vowel\")\n",
    "else:\n",
    "    print(f\"{character} is a consonant\")"
   ]
  },
  {
   "cell_type": "code",
   "execution_count": 9,
   "metadata": {},
   "outputs": [
    {
     "name": "stdout",
     "output_type": "stream",
     "text": [
      "0 is zero\n"
     ]
    }
   ],
   "source": [
    "# 3.Write a python program to check whether a character is a vowel or consonant.\n",
    "num=int(input(\"Enter the number\"))\n",
    "if num > 0:\n",
    "    print(f\"{num} is Positive number\")\n",
    "elif num < 0:\n",
    "    print(f\"{num} is negative number\")\n",
    "else:\n",
    "    print(f\"{num} is zero value\")"
   ]
  },
  {
   "cell_type": "code",
   "execution_count": 11,
   "metadata": {},
   "outputs": [
    {
     "name": "stdout",
     "output_type": "stream",
     "text": [
      "Bipul\n",
      "Bipul\n",
      "Bipul\n",
      "Bipul\n",
      "Bipul\n",
      "Bipul\n",
      "Bipul\n",
      "Bipul\n",
      "Bipul\n",
      "Bipul\n",
      "Bipul\n",
      "Bipul\n",
      "Bipul\n",
      "Bipul\n",
      "Bipul\n",
      "Bipul\n",
      "Bipul\n",
      "Bipul\n",
      "Bipul\n",
      "Bipul\n",
      "Bipul\n",
      "Bipul\n",
      "Bipul\n",
      "Bipul\n",
      "Bipul\n",
      "Bipul\n",
      "Bipul\n",
      "Bipul\n",
      "Bipul\n",
      "Bipul\n",
      "Bipul\n",
      "Bipul\n",
      "Bipul\n",
      "Bipul\n",
      "Bipul\n",
      "Bipul\n",
      "Bipul\n",
      "Bipul\n",
      "Bipul\n",
      "Bipul\n",
      "Bipul\n",
      "Bipul\n",
      "Bipul\n",
      "Bipul\n",
      "Bipul\n",
      "Bipul\n",
      "Bipul\n",
      "Bipul\n",
      "Bipul\n",
      "Bipul\n",
      "Bipul\n",
      "Bipul\n",
      "Bipul\n",
      "Bipul\n",
      "Bipul\n",
      "Bipul\n",
      "Bipul\n",
      "Bipul\n",
      "Bipul\n",
      "Bipul\n",
      "Bipul\n",
      "Bipul\n",
      "Bipul\n",
      "Bipul\n",
      "Bipul\n",
      "Bipul\n",
      "Bipul\n",
      "Bipul\n",
      "Bipul\n",
      "Bipul\n",
      "Bipul\n",
      "Bipul\n",
      "Bipul\n",
      "Bipul\n",
      "Bipul\n",
      "Bipul\n",
      "Bipul\n",
      "Bipul\n",
      "Bipul\n",
      "Bipul\n",
      "Bipul\n",
      "Bipul\n",
      "Bipul\n",
      "Bipul\n",
      "Bipul\n",
      "Bipul\n",
      "Bipul\n",
      "Bipul\n",
      "Bipul\n",
      "Bipul\n",
      "Bipul\n",
      "Bipul\n",
      "Bipul\n",
      "Bipul\n",
      "Bipul\n",
      "Bipul\n",
      "Bipul\n",
      "Bipul\n",
      "Bipul\n"
     ]
    }
   ],
   "source": [
    "# 4.Write a python program to print your name 100 times.\n",
    "name=input(\"Hey! Now enter  your name I will print 100 time\")\n",
    "for i in range(99):\n",
    "    print(name)"
   ]
  },
  {
   "cell_type": "code",
   "execution_count": 12,
   "metadata": {},
   "outputs": [
    {
     "name": "stdout",
     "output_type": "stream",
     "text": [
      "56.3654 is the value that you enter now after 4 the value is 56.3654\n"
     ]
    }
   ],
   "source": [
    "# 5.Write a python program to round a number in n decimal places.\n",
    "\n",
    "num=float(input(\"Enter the float number \"))\n",
    "round_num=int(input(\"Which place up to \"))\n",
    "# built in function to round up the value\n",
    "result=round(num,round_num)\n",
    "print(f\"{num} is the value that you enter now after {round_num} decimal the value is {result}\")"
   ]
  },
  {
   "cell_type": "code",
   "execution_count": 20,
   "metadata": {},
   "outputs": [
    {
     "name": "stdout",
     "output_type": "stream",
     "text": [
      "The sum of all number from 0 to 5 is 15\n"
     ]
    }
   ],
   "source": [
    "# 6.Write a python program to calculate the sum of natural numbers.\n",
    "natural_number=int(input(\"Enter the number that till you want to add \"))\n",
    "sum_number=0\n",
    "for i in range(1,natural_number+1):\n",
    "    sum_number +=i\n",
    "print(f\"The sum of all number from 0 to {natural_number} is {sum_number}\")"
   ]
  },
  {
   "cell_type": "code",
   "execution_count": 28,
   "metadata": {},
   "outputs": [
    {
     "name": "stdout",
     "output_type": "stream",
     "text": [
      "5*1=5\n",
      "5*2=10\n",
      "5*3=15\n",
      "5*4=20\n",
      "5*5=25\n",
      "5*6=30\n",
      "5*7=35\n",
      "5*8=40\n",
      "5*9=45\n",
      "5*10=50\n",
      "This is your multiplication of table 5\n"
     ]
    }
   ],
   "source": [
    "# 7 Write a python program to generate multiplication tables of 5\n",
    "number=5\n",
    "for i in range(1,11):\n",
    "    mul=number * i\n",
    "    print(f\"{number}*{i}={mul}\")\n",
    "    # print(\"\\n\")\n",
    "else:\n",
    "    print(\"This is your multiplication of table 5\")\n"
   ]
  },
  {
   "cell_type": "code",
   "execution_count": 37,
   "metadata": {},
   "outputs": [
    {
     "name": "stdout",
     "output_type": "stream",
     "text": [
      "1*1=1\n",
      "1*2=2\n",
      "1*3=3\n",
      "1*4=4\n",
      "1*5=5\n",
      "1*6=6\n",
      "1*7=7\n",
      "1*8=8\n",
      "1*9=9\n",
      "1*10=10\n",
      "2*1=2\n",
      "2*2=4\n",
      "2*3=6\n",
      "2*4=8\n",
      "2*5=10\n",
      "2*6=12\n",
      "2*7=14\n",
      "2*8=16\n",
      "2*9=18\n",
      "2*10=20\n",
      "3*1=3\n",
      "3*2=6\n",
      "3*3=9\n",
      "3*4=12\n",
      "3*5=15\n",
      "3*6=18\n",
      "3*7=21\n",
      "3*8=24\n",
      "3*9=27\n",
      "3*10=30\n",
      "4*1=4\n",
      "4*2=8\n",
      "4*3=12\n",
      "4*4=16\n",
      "4*5=20\n",
      "4*6=24\n",
      "4*7=28\n",
      "4*8=32\n",
      "4*9=36\n",
      "4*10=40\n",
      "5*1=5\n",
      "5*2=10\n",
      "5*3=15\n",
      "5*4=20\n",
      "5*5=25\n",
      "5*6=30\n",
      "5*7=35\n",
      "5*8=40\n",
      "5*9=45\n",
      "5*10=50\n",
      "6*1=6\n",
      "6*2=12\n",
      "6*3=18\n",
      "6*4=24\n",
      "6*5=30\n",
      "6*6=36\n",
      "6*7=42\n",
      "6*8=48\n",
      "6*9=54\n",
      "6*10=60\n",
      "7*1=7\n",
      "7*2=14\n",
      "7*3=21\n",
      "7*4=28\n",
      "7*5=35\n",
      "7*6=42\n",
      "7*7=49\n",
      "7*8=56\n",
      "7*9=63\n",
      "7*10=70\n",
      "8*1=8\n",
      "8*2=16\n",
      "8*3=24\n",
      "8*4=32\n",
      "8*5=40\n",
      "8*6=48\n",
      "8*7=56\n",
      "8*8=64\n",
      "8*9=72\n",
      "8*10=80\n",
      "9*1=9\n",
      "9*2=18\n",
      "9*3=27\n",
      "9*4=36\n",
      "9*5=45\n",
      "9*6=54\n",
      "9*7=63\n",
      "9*8=72\n",
      "9*9=81\n",
      "9*10=90\n",
      "(❁´◡`❁)\n"
     ]
    }
   ],
   "source": [
    "# 8Write a python program to generate multiplication tables of 1 -9.\n",
    "number=int(input(\"Upto which you Want multiplication\"))\n",
    "for i in range(1,number+1):\n",
    "    for j in range(1,11):\n",
    "        mul=i*j\n",
    "        print(f\"{i}*{j}={mul}\")\n",
    "else:\n",
    "    print(\"(❁´◡`❁)\")"
   ]
  },
  {
   "cell_type": "code",
   "execution_count": 49,
   "metadata": {},
   "outputs": [
    {
     "ename": "TypeError",
     "evalue": "'int' object is not callable",
     "output_type": "error",
     "traceback": [
      "\u001b[1;31m---------------------------------------------------------------------------\u001b[0m",
      "\u001b[1;31mTypeError\u001b[0m                                 Traceback (most recent call last)",
      "Cell \u001b[1;32mIn[49], line 16\u001b[0m\n\u001b[0;32m     14\u001b[0m \u001b[39mtry\u001b[39;00m:\n\u001b[0;32m     15\u001b[0m     num1,num2\u001b[39m=\u001b[39m\u001b[39mmap\u001b[39m(\u001b[39mfloat\u001b[39m,\u001b[39minput\u001b[39m(\u001b[39m\"\u001b[39m\u001b[39menter the number you want to perform operation\u001b[39m\u001b[39m\"\u001b[39m)\u001b[39m.\u001b[39msplit())\n\u001b[1;32m---> 16\u001b[0m     \u001b[39mprint\u001b[39;49m(\u001b[39m'\u001b[39;49m\u001b[39mchoose one of these options\u001b[39;49m\u001b[39m'\u001b[39;49m)  \u001b[39m# print statement for user input\u001b[39;00m\n\u001b[0;32m     17\u001b[0m     \u001b[39mprint\u001b[39m(\u001b[39m'\u001b[39m\u001b[39m1. Multiplication\u001b[39m\u001b[39m'\u001b[39m)\n\u001b[0;32m     18\u001b[0m     \u001b[39mprint\u001b[39m(\u001b[39m'\u001b[39m\u001b[39m2. Division\u001b[39m\u001b[39m'\u001b[39m)\n",
      "\u001b[1;31mTypeError\u001b[0m: 'int' object is not callable"
     ]
    }
   ],
   "source": [
    "#9 Write a python program to create a simple calculator using a switch case.\n",
    "def Multiplication(x,y):\n",
    "    return x*y\n",
    "def Division(x,y):\n",
    "    return x%y\n",
    "def Addition(x,y):\n",
    "    return x+y\n",
    "def Subtraction(x,y):\n",
    "    return x-y\n",
    "def Exponentiation(x,y):\n",
    "    return x**y\n",
    "def mod(x,y):\n",
    "    return x%y\n",
    "try:\n",
    "    num1,num2=map(float,input(\"enter the number you want to perform operation separated them by comma ' , '\").split(\",\"))\n",
    "    print('choose one of these options')  # print statement for user input\n",
    "    print('1. Multiplication')\n",
    "    print('2. Division')\n",
    "    print('3. Addition')\n",
    "    print('4. Subtraction')\n",
    "    print('5. Exponentiation')\n",
    "    print('6. Mod ')\n",
    "    ch=int(input(\"Choices please\"))\n",
    "    if ch==1:\n",
    "        print(f\"{num1}*{num2}={Multiplication(num1,num2)}\")\n",
    "    elif ch==2:\n",
    "        print(f\"{num1}/{num2}={Division(num1,num2)}\")\n",
    "    elif ch==3:\n",
    "        print(f\"{num1}+{num2}={Addition(num1,num2)}\")\n",
    "    elif ch==4:\n",
    "        print(f\"{num1}-{num2}={Subtraction(num1,num2)}\")\n",
    "    elif ch==5:\n",
    "        print(f\"{num1}^{num2}={Exponentiation(num1,num2)}\")\n",
    "    elif ch==5:\n",
    "        print(f\"{num1}%{num2}={Mod(num1,num2)}\")\n",
    "    else:\n",
    "        print(\"Sorry wrong Value\")\n",
    "except ValueError:\n",
    "    print (\"Invalid Input!Please Enter the float value or Integers value\")"
   ]
  },
  {
   "cell_type": "code",
   "execution_count": 50,
   "metadata": {},
   "outputs": [
    {
     "ename": "TypeError",
     "evalue": "'int' object is not callable",
     "output_type": "error",
     "traceback": [
      "\u001b[1;31m---------------------------------------------------------------------------\u001b[0m",
      "\u001b[1;31mTypeError\u001b[0m                                 Traceback (most recent call last)",
      "Cell \u001b[1;32mIn[50], line 5\u001b[0m\n\u001b[0;32m      3\u001b[0m \u001b[39mif\u001b[39;00m i\u001b[39m==\u001b[39m\u001b[39m41\u001b[39m:\n\u001b[0;32m      4\u001b[0m     \u001b[39mcontinue\u001b[39;00m\n\u001b[1;32m----> 5\u001b[0m \u001b[39mprint\u001b[39;49m(i)\n",
      "\u001b[1;31mTypeError\u001b[0m: 'int' object is not callable"
     ]
    }
   ],
   "source": [
    "# 10 Write a python program to print 1 to 100 but not 41.\n",
    "for i in range(1,100):\n",
    "    if i==41:\n",
    "        continue\n",
    "    print(i)"
   ]
  }
 ],
 "metadata": {
  "kernelspec": {
   "display_name": "Python 3",
   "language": "python",
   "name": "python3"
  },
  "language_info": {
   "codemirror_mode": {
    "name": "ipython",
    "version": 3
   },
   "file_extension": ".py",
   "mimetype": "text/x-python",
   "name": "python",
   "nbconvert_exporter": "python",
   "pygments_lexer": "ipython3",
   "version": "3.11.5"
  },
  "orig_nbformat": 4
 },
 "nbformat": 4,
 "nbformat_minor": 2
}
