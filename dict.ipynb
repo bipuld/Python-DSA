{
 "cells": [
  {
   "cell_type": "code",
   "execution_count": 20,
   "metadata": {},
   "outputs": [
    {
     "name": "stdout",
     "output_type": "stream",
     "text": [
      "Alice\n",
      "the s1 name is Alice and major is Computer Science\n",
      "the age of Alice he age is  21\n",
      "dict_keys(['name', 'age', 'major'])\n",
      "dict_values(['Alice', 21, 'Computer Science'])\n",
      "21\n",
      "dict_items([('name', 'Alice'), ('age', 21), ('major', 'Computer Science')])\n"
     ]
    }
   ],
   "source": [
    "# Creating a dictionary\n",
    "s1 = {\n",
    "    'name': 'Alice',\n",
    "    'age': 21,\n",
    "    'major': 'Computer Science'\n",
    "}\n",
    "\n",
    "print(s1['name'])\n",
    "print(f\"the s1 name is {s1['name']} and major is {s1['major']}\") \n",
    "print(f\"the age of {s1['name']}\" , 'he age is ',s1['age'])\n",
    "print(s1.keys())\n",
    "print(s1.values())\n",
    "print(s1.get('age'))\n",
    "print(s1.items())\n",
    "\n"
   ]
  },
  {
   "cell_type": "code",
   "execution_count": 81,
   "metadata": {},
   "outputs": [
    {
     "name": "stdout",
     "output_type": "stream",
     "text": [
      "[10, 7, 7, 9, 6, 3, 3, 10, 3, 6]\n",
      "{10: 1000, 7: 343, 9: 729, 6: 216, 3: 27}\n"
     ]
    }
   ],
   "source": [
    "# using diffrent funtion for diffrent method generatin random number and their cube \n",
    "\n",
    "import random\n",
    "\n",
    "r=[]\n",
    "\n",
    "for _ in range(10):\n",
    "    r.append(random.randint(1,10))   \n",
    "    \n",
    "print(r) \n",
    "\n",
    "cubedict={num:num**3 for num in r }\n",
    "print(cubedict) "
   ]
  },
  {
   "cell_type": "code",
   "execution_count": 85,
   "metadata": {},
   "outputs": [
    {
     "name": "stdout",
     "output_type": "stream",
     "text": [
      "<class 'collections.Counter'>\n",
      "Counter({'a': 2, 'N': 1, 'm': 1, 's': 1, 't': 1, 'e': 1})\n",
      "defaultdict(<class 'int'>, {'bipul': 5, 'bikas': 5, 'binod': 5, 'siddartha': 9})\n"
     ]
    }
   ],
   "source": [
    "# counting the text length\n",
    "from collections import Counter,defaultdict\n",
    "import random\n",
    "text='Namaste'\n",
    "length=Counter(text)\n",
    "print(type(length))\n",
    "print((length))\n",
    "\n",
    "w=defaultdict(int)\n",
    "\n",
    "list=['bipul','bikas','binod','siddartha']\n",
    "\n",
    "for i in list:\n",
    "    w[i]=len(i)\n",
    "    \n",
    "print(w)\n",
    "    "
   ]
  },
  {
   "cell_type": "code",
   "execution_count": 43,
   "metadata": {},
   "outputs": [
    {
     "name": "stdout",
     "output_type": "stream",
     "text": [
      "{'name': 'kyane', 'age': 22, 'major': 'Computer Science', 'add': 'Newyork', 'Sex': 'male', 'town': 'newyork'}\n",
      "{'name': 'Park', 'age': 22, 'major': 'Computer Science', 'add': 'Newyork', 'Sex': 'male', 'town': 'newyork'}\n",
      "{'name': 'Park', 'age': 22, 'major': 'Computer Science', 'add': 'Newyork', 'Sex': 'male', 'town': 'newyork'}\n",
      "dict_items([('name', 'Park'), ('age', 22), ('major', 'Computer Science'), ('add', 'Newyork'), ('Sex', 'male'), ('town', 'newyork'), ('grade', 'A+'), ('year', 2023)])\n"
     ]
    }
   ],
   "source": [
    "# <!-- adding items in dictiory -->\n",
    "s1['name']='kyane'\n",
    "print(s1)\n",
    "s1.update({'name':'Park','age':22})\n",
    "print(s1)\n",
    "# now time to add new items  in a list\n",
    "s1['town']='newyork'\n",
    "print(s1)\n",
    "s1.update({'grade':'A+','year':2023})\n",
    "print(s1.items())"
   ]
  },
  {
   "cell_type": "code",
   "execution_count": 53,
   "metadata": {},
   "outputs": [
    {
     "name": "stdout",
     "output_type": "stream",
     "text": [
      "{'name': 'Park', 'age': 22, 'major': 'Computer Science', 'add': 'Newyork', 'town': 'newyork', 'grade': 'A+'}\n",
      "{'name': 'Park', 'age': 22, 'major': 'Computer Science', 'add': 'Newyork', 'town': 'newyork'}\n"
     ]
    }
   ],
   "source": [
    "# removing items in python\n",
    "print(s1)\n",
    "# del s1[\"year\"]\n",
    "# print(s1)\n",
    "# s1.pop('Sex')\n",
    "# print(s1)\n",
    "s1.popitem()\n",
    "print(s1)"
   ]
  },
  {
   "cell_type": "code",
   "execution_count": 55,
   "metadata": {},
   "outputs": [
    {
     "name": "stdout",
     "output_type": "stream",
     "text": [
      "{'d1': {'name': 'Bibek', 'major': 'math', 'grade': 'A+'}, 'd2': {'name': 'Bipul', 'major': 'DSA', 'grade': 'A+'}, 'd3': {'name': 'Bimal', 'major': 'Economy', 'grade': 'B+'}, 'd4': {'name': 'Gauutam', 'major': 'Englis', 'grade': 'A'}}\n"
     ]
    }
   ],
   "source": [
    "# concept of nested dictionary\n",
    "\n",
    "s1={\n",
    "    'name':'Bibek',\n",
    "    'major':\"math\",\n",
    "    'grade':'A+'\n",
    "}\n",
    "s2={\n",
    "    'name':'Bipul',\n",
    "    'major':\"DSA\",\n",
    "    'grade':'A+'\n",
    "}\n",
    "s3={\n",
    "    'name':'Bimal',\n",
    "    'major':\"Economy\",\n",
    "    'grade':'B+'\n",
    "}\n",
    "s4={\n",
    "    'name':'Gauutam',\n",
    "    'major':'Englis',\n",
    "    'grade':'A'\n",
    "}\n",
    "\n",
    "students={\n",
    "    \n",
    "'d1':s1,\n",
    "'d2':s2,\n",
    "'d3':s3,\n",
    "'d4':s4\n",
    "}\n",
    "print(students)\n"
   ]
  },
  {
   "cell_type": "code",
   "execution_count": 7,
   "metadata": {},
   "outputs": [
    {
     "name": "stdout",
     "output_type": "stream",
     "text": [
      "{'Bibek': {'courses': ['Computer', 'math', 'DSA'], 'grade': ['A+', 'A', 'A+']}, 'Bipul': {'courses': ['DSA', 'ComputerNetworks', 'DDA'], 'grade': ['A+', 'A+', 'A+']}, 'Bimal': {'courses': ['Economy', 'Nepali', 'english'], 'grade': ['B+', 'A', 'A']}, 'Gaunter': {'courses': ['English', 'Finance', 'Sociology'], 'grade': ['B', 'A', 'A']}}\n",
      "{'courses': ['DSA', 'ComputerNetworks', 'DDA'], 'grade': ['A+', 'A+', 'A+']}\n",
      "dict_values([{'courses': ['Computer', 'math', 'DSA'], 'grade': ['A+', 'A', 'A+']}, {'courses': ['DSA', 'ComputerNetworks', 'DDA'], 'grade': ['A+', 'A+', 'A+']}, {'courses': ['Economy', 'Nepali', 'english'], 'grade': ['B+', 'A', 'A']}, {'courses': ['English', 'Finance', 'Sociology'], 'grade': ['B', 'A', 'A']}])\n",
      "dict_items([('Bibek', {'courses': ['Computer', 'math', 'DSA'], 'grade': ['A+', 'A', 'A+']}), ('Bipul', {'courses': ['DSA', 'ComputerNetworks', 'DDA'], 'grade': ['A+', 'A+', 'A+']}), ('Bimal', {'courses': ['Economy', 'Nepali', 'english'], 'grade': ['B+', 'A', 'A']}), ('Gaunter', {'courses': ['English', 'Finance', 'Sociology'], 'grade': ['B', 'A', 'A']})])\n",
      "dict_keys(['Bibek', 'Bipul', 'Bimal', 'Gaunter'])\n"
     ]
    }
   ],
   "source": [
    "students={\n",
    "    'Bibek':{\n",
    "    'courses':['Computer',\"math\",'DSA'],\n",
    "    'grade':['A+',\"A\",'A+']\n",
    "    },\n",
    "        \n",
    "    'Bipul':\n",
    "    {\n",
    "    'courses':[\"DSA\",'ComputerNetworks','DDA'],\n",
    "    'grade':['A+',\"A+\",'A+']\n",
    "},\n",
    "        \n",
    "   'Bimal':{\n",
    "    'courses':[\"Economy\",'Nepali','english'],\n",
    "    'grade':['B+',\"A\",'A']\n",
    "},\n",
    "    \n",
    "'Gaunter':{\n",
    "    'courses':['English','Finance','Sociology'],\n",
    "    'grade':['B',\"A\",'A']\n",
    "}\n",
    "}\n",
    "print(students)\n",
    "print(students.get('Bipul'))\n",
    "print(students.values())\n",
    "print(students.items())\n",
    "print(students.keys())"
   ]
  },
  {
   "cell_type": "code",
   "execution_count": 20,
   "metadata": {},
   "outputs": [
    {
     "name": "stdout",
     "output_type": "stream",
     "text": [
      "dict_items([('Bibek', {'courses': ['Computer', 'math', 'DSA'], 'grade': ['A+', 'A', 'A+']}), ('Bipul', {'courses': ['DSA', 'ComputerNetworks', 'DDA'], 'grade': [{'DSA': 'A+', 'ComputerNetworks': 'A+', 'DDA': 'A+'}]}), ('Bimal', {'courses': ['Economy', 'Nepali', 'english'], 'grade': [{'Economy': 'B+', 'Nepali': 'A', 'english': 'A'}]}), ('Gaunter', {'courses': ['English', 'Finance', 'Sociology'], 'grade': [{'English': 'B', 'Finance': 'A', 'Sociology': 'A'}]})])\n",
      "['Computer', 'math', 'DSA']\n",
      "['DSA', 'ComputerNetworks', 'DDA', 'DL']\n"
     ]
    }
   ],
   "source": [
    "students={\n",
    "    'Bibek':{\n",
    "    'courses':['Computer',\"math\",'DSA'],\n",
    "    'grade':['A+',\"A\",'A+']\n",
    "    },\n",
    "        \n",
    "    'Bipul':\n",
    "    {\n",
    "    'courses':[\"DSA\",'ComputerNetworks','DDA'],\n",
    "    'grade':[\n",
    "        {\n",
    "        \"DSA\":'A+',\"ComputerNetworks\":'A+',\"DDA\":'A+'\n",
    "        }\n",
    "        ]\n",
    "},\n",
    "        \n",
    "   'Bimal':{\n",
    "    'courses':[\"Economy\",'Nepali','english'],\n",
    "    'grade':[{'Economy':'B+',\n",
    "              'Nepali':\"A\",\n",
    "              'english':'A'}]\n",
    "},\n",
    "    \n",
    "'Gaunter':{\n",
    "    'courses':['English','Finance','Sociology'],\n",
    "    'grade':[{\"English\":'B',\n",
    "    \"Finance\":\"A\",\n",
    "    'Sociology':'A'}]\n",
    "}\n",
    "}\n",
    "# print(students)\n",
    "print(students.items())\n",
    "print(students['Bibek']['courses'])\n",
    "students['Bipul']['courses'].append('DL')\n",
    "print(students['Bipul']['courses'])"
   ]
  },
  {
   "cell_type": "code",
   "execution_count": 38,
   "metadata": {},
   "outputs": [
    {
     "name": "stdout",
     "output_type": "stream",
     "text": [
      "dict_items([('Bibek', {'courses': ['Computer', 'math', 'DSA'], 'grade': ['A+', 'A', 'A+']}), ('Bipul', {'courses': ['DSA', 'ComputerNetworks', 'DDA'], 'grade': [{'DSA': 'A+', 'ComputerNetworks': 'A+', 'DDA': 'A+'}]}), ('Bimal', {'courses': ['Economy', 'Nepali', 'english'], 'grade': [{'Economy': 'B+', 'Nepali': 'A', 'english': 'A'}]}), ('Gaunter', {'courses': ['English', 'Finance', 'Sociology'], 'grade': [{'English': 'B', 'Finance': 'A', 'Sociology': 'A'}]})])\n",
      "{'Bibek': {'courses': ['Computer', 'math', 'DSA'], 'grade': ['A+', 'A', 'A+']}, 'Bipul': {'courses': ['DSA', 'ComputerNetworks', 'DDA'], 'grade': [{'DSA': 'A+', 'ComputerNetworks': 'A+', 'DDA': 'A+'}]}, 'Bimal': {'courses': ['Economy', 'Nepali', 'english'], 'grade': [{'Economy': 'B+', 'Nepali': 'A', 'english': 'A'}]}, 'Gaunter': {'courses': ['English', 'Finance', 'Sociology'], 'grade': [{'English': 'B', 'Finance': 'A', 'Sociology': 'A'}]}}'s\n",
      "{'Bibek': {'courses': ['Computer', 'math', 'DSA'], 'grade': ['A+', 'A', 'A+']}, 'Bipul': {'courses': ['DSA', 'ComputerNetworks', 'DDA'], 'grade': [{'DSA': 'A+', 'ComputerNetworks': 'A+', 'DDA': 'A+'}]}, 'Bimal': {'courses': ['Economy', 'Nepali', 'english'], 'grade': [{'Economy': 'B+', 'Nepali': 'A', 'english': 'A'}]}, 'Gaunter': {'courses': ['English', 'Finance', 'Sociology'], 'grade': [{'English': 'B', 'Finance': 'A', 'Sociology': 'A'}]}}'s\n",
      "{'Bibek': {'courses': ['Computer', 'math', 'DSA'], 'grade': ['A+', 'A', 'A+']}, 'Bipul': {'courses': ['DSA', 'ComputerNetworks', 'DDA'], 'grade': [{'DSA': 'A+', 'ComputerNetworks': 'A+', 'DDA': 'A+'}]}, 'Bimal': {'courses': ['Economy', 'Nepali', 'english'], 'grade': [{'Economy': 'B+', 'Nepali': 'A', 'english': 'A'}]}, 'Gaunter': {'courses': ['English', 'Finance', 'Sociology'], 'grade': [{'English': 'B', 'Finance': 'A', 'Sociology': 'A'}]}}'s\n",
      "{'Bibek': {'courses': ['Computer', 'math', 'DSA'], 'grade': ['A+', 'A', 'A+']}, 'Bipul': {'courses': ['DSA', 'ComputerNetworks', 'DDA'], 'grade': [{'DSA': 'A+', 'ComputerNetworks': 'A+', 'DDA': 'A+'}]}, 'Bimal': {'courses': ['Economy', 'Nepali', 'english'], 'grade': [{'Economy': 'B+', 'Nepali': 'A', 'english': 'A'}]}, 'Gaunter': {'courses': ['English', 'Finance', 'Sociology'], 'grade': [{'English': 'B', 'Finance': 'A', 'Sociology': 'A'}]}}'s\n"
     ]
    }
   ],
   "source": [
    "students={\n",
    "    'Bibek':{\n",
    "    'courses':['Computer',\"math\",'DSA'],\n",
    "    'grade':['A+',\"A\",'A+']\n",
    "    },\n",
    "        \n",
    "    'Bipul':\n",
    "    {\n",
    "    'courses':[\"DSA\",'ComputerNetworks','DDA'],\n",
    "    'grade':[\n",
    "        {\n",
    "        \"DSA\":'A+',\"ComputerNetworks\":'A+',\"DDA\":'A+'\n",
    "        }\n",
    "        ]\n",
    "},\n",
    "        \n",
    "   'Bimal':{\n",
    "    'courses':[\"Economy\",'Nepali','english'],\n",
    "    'grade':[{'Economy':'B+',\n",
    "              'Nepali':\"A\",\n",
    "              'english':'A'}]\n",
    "},\n",
    "    \n",
    "'Gaunter':{\n",
    "    'courses':['English','Finance','Sociology'],\n",
    "    'grade':[{\"English\":'B',\n",
    "    \"Finance\":\"A\",\n",
    "    'Sociology':'A'}]\n",
    "}}\n",
    "print(students.items())\n"
   ]
  },
  {
   "cell_type": "code",
   "execution_count": 61,
   "metadata": {},
   "outputs": [
    {
     "name": "stdout",
     "output_type": "stream",
     "text": [
      "Bibek's grade:\n",
      "Computer: A+\n",
      "math: A\n",
      "DSA: A+\n",
      "\n",
      "Bipul's grade:\n",
      "DSA: A+\n",
      "ComputerNetworks: A+\n",
      "DDA: A+\n",
      "\n",
      "Bimal's grade:\n",
      "Economy: B+\n",
      "Nepali: A\n",
      "english: A\n",
      "\n",
      "Gaunter's grade:\n",
      "English: B\n",
      "Finance: A\n",
      "Sociology: A\n",
      "\n"
     ]
    }
   ],
   "source": [
    "for student, info in students.items():\n",
    "    print(f\"{student}'s grade:\")\n",
    "    \n",
    "    if isinstance(info['grade'][0], dict):  # Check if grade is a dictionary\n",
    "        for course, grade in info['grade'][0].items():\n",
    "            print(f\"{course}: {grade}\")\n",
    "    \n",
    "    else:  # Grade is a list of strings\n",
    "        for course, grade in zip(info['courses'], info['grade']):\n",
    "            print(f\"{course}: {grade}\")\n",
    "            \n",
    "    print()\n"
   ]
  }
 ],
 "metadata": {
  "kernelspec": {
   "display_name": "Python 3",
   "language": "python",
   "name": "python3"
  },
  "language_info": {
   "codemirror_mode": {
    "name": "ipython",
    "version": 3
   },
   "file_extension": ".py",
   "mimetype": "text/x-python",
   "name": "python",
   "nbconvert_exporter": "python",
   "pygments_lexer": "ipython3",
   "version": "3.11.4"
  },
  "orig_nbformat": 4
 },
 "nbformat": 4,
 "nbformat_minor": 2
}
