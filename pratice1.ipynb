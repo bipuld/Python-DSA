{
 "cells": [
  {
   "cell_type": "code",
   "execution_count": null,
   "metadata": {},
   "outputs": [],
   "source": [
    "\n",
    "Write a program to print your name in python.\n",
    "Write a program that finds simple interest. Formula= (p * t * r) / 100\n",
    "Write a program to print an integer entered by the user.\n",
    "Write a program to print String entered by the user.\n",
    "Write a program to multiply two floating-point numbers.\n",
    "Write a program to find the quotient and remainder of two Integers.\n",
    "Write a program to swap two numbers.\n",
    "Write a program to calculate the square of a number.\n",
    "Write a program to remove all whitespaces from the String.\n",
    "Write a program to convert String to int. \n",
    "Write a program to convert double to float.\n",
    "Write a program to ask the user to enter his/her birth year and print the age."
   ]
  },
  {
   "cell_type": "code",
   "execution_count": 2,
   "metadata": {},
   "outputs": [
    {
     "name": "stdout",
     "output_type": "stream",
     "text": [
      "Hello Bipul! Welcome to the python world\n"
     ]
    }
   ],
   "source": [
    "# 1.Write a program to print your name in python.\n",
    "name=input(\"Hey!User please provide me your name ? \")\n",
    "print(f\"Hello {name}! Welcome to the python world\")\n"
   ]
  },
  {
   "cell_type": "code",
   "execution_count": 8,
   "metadata": {},
   "outputs": [
    {
     "name": "stdout",
     "output_type": "stream",
     "text": [
      "Simple Interest provide me the input for calculation rate \n",
      "Simple Interest : 42000.0\n"
     ]
    }
   ],
   "source": [
    "#2. Write a program that finds simple interest. Formula= (p * t * r) / 100\n",
    "print(\"Simple Interest provide me the input for calculation rate \")\n",
    "p,t,r=map(float,input(\"Enter the principal amount, time (in years), and rate (in percentage), separated by spaces: \").split())\n",
    "SI=(p*t*r)/100\n",
    "print(\"Simple Interest :\",SI)"
   ]
  },
  {
   "cell_type": "code",
   "execution_count": 9,
   "metadata": {},
   "outputs": [
    {
     "name": "stdout",
     "output_type": "stream",
     "text": [
      "Number : 85\n"
     ]
    }
   ],
   "source": [
    "# 3.Write a program to print an integer entered by the user.\n",
    "number=input(\"Enter the number for displaying\")\n",
    "print(\"Number :\",number)"
   ]
  },
  {
   "cell_type": "code",
   "execution_count": 10,
   "metadata": {},
   "outputs": [
    {
     "name": "stdout",
     "output_type": "stream",
     "text": [
      "Name\n"
     ]
    }
   ],
   "source": [
    "# 4.Write a program to print String entered by the user.\n",
    "name=input(\"Name : please \")\n",
    "print(name)"
   ]
  },
  {
   "cell_type": "code",
   "execution_count": 11,
   "metadata": {},
   "outputs": [
    {
     "name": "stdout",
     "output_type": "stream",
     "text": [
      "56.0 * 89.0  =  4984.0\n"
     ]
    }
   ],
   "source": [
    "# 5.Write a program to multiply two floating-point numbers.\n",
    "n1,n2=map(float,input(\"Enter the float number for multiplication \").split(\",\"))\n",
    "res=n1*n2\n",
    "print(n1,\"*\",n2,\" = \",res )"
   ]
  },
  {
   "cell_type": "code",
   "execution_count": 21,
   "metadata": {},
   "outputs": [
    {
     "name": "stdout",
     "output_type": "stream",
     "text": [
      "Quotient: 7\n",
      "Remainder: 0\n"
     ]
    }
   ],
   "source": [
    "# 6 Write a program to find the quotient and remainder of two Integers.\n",
    "# Input two integers from the user\n",
    "dividend = int(input(\"Enter the dividend: \"))\n",
    "divisor = int(input(\"Enter the divisor: \"))\n",
    "\n",
    "# Calculate quotient and remainder\n",
    "quotient = dividend // divisor\n",
    "remainder = dividend % divisor\n",
    "\n",
    "# Print the results\n",
    "print(\"Quotient:\", quotient)\n",
    "print(\"Remainder:\", remainder)\n"
   ]
  },
  {
   "cell_type": "code",
   "execution_count": 31,
   "metadata": {},
   "outputs": [
    {
     "name": "stdout",
     "output_type": "stream",
     "text": [
      "x: 85\n",
      "y: 96\n",
      "After swapping we get \n",
      "x: 96\n",
      "y: 85\n"
     ]
    }
   ],
   "source": [
    "# 8.Write a program to swap two numbers.\n",
    "x,y=map(int,input(\"Two number : \").split())\n",
    "print(\"x:\",x)\n",
    "print(\"y:\",y)\n",
    "# swapping method\n",
    "temp=x\n",
    "x=y\n",
    "y=temp\n",
    "print(\"After swapping we get \")\n",
    "print(\"x:\",x)\n",
    "print(\"y:\",y)"
   ]
  },
  {
   "cell_type": "code",
   "execution_count": 32,
   "metadata": {},
   "outputs": [
    {
     "name": "stdout",
     "output_type": "stream",
     "text": [
      "731025 is the square of 855\n"
     ]
    }
   ],
   "source": [
    "# 9.Write a program to calculate the square of a number.\n",
    "num = int(input(\"Enter any Number: \")) # taking input from user for calculation purpose\n",
    "square_of_number= num**2  \t# calculating square value using exponent operator ** and assigning it into variable 'square'\n",
    "print(f\"{square_of_number} is the square of {num}\")"
   ]
  },
  {
   "cell_type": "code",
   "execution_count": 34,
   "metadata": {},
   "outputs": [
    {
     "name": "stdout",
     "output_type": "stream",
     "text": [
      "BipulDawadi\n"
     ]
    }
   ],
   "source": [
    "#10 Write a program to remove all whitespaces from the String.\n",
    "string=input(\"Enter the any string with white space \")\n",
    "res=''.join(i for i in string if not i.isspace()) #join function is used to combine two value or ant string\n",
    "print(res)"
   ]
  },
  {
   "cell_type": "code",
   "execution_count": 42,
   "metadata": {},
   "outputs": [
    {
     "name": "stdout",
     "output_type": "stream",
     "text": [
      "Invalid input: Cannot convert the string to an integer\n"
     ]
    }
   ],
   "source": [
    "# 11.Write a program to convert String to int. \n",
    "string=input(\"Enter the string for conversion\")\n",
    "try:\n",
    "    print(type(string))\n",
    "    intt=int(string)\n",
    "    print(type(intt))\n",
    "except ValueError:\n",
    "       print(\"Invalid input: Cannot convert the string to an integer\")"
   ]
  },
  {
   "cell_type": "code",
   "execution_count": 47,
   "metadata": {},
   "outputs": [
    {
     "name": "stdout",
     "output_type": "stream",
     "text": [
      "<class 'float'>\n",
      "After conversion\n",
      "<class 'int'>\n"
     ]
    }
   ],
   "source": [
    "# 12 Write a program to convert double to float.\n",
    "num=float(input(\"enter the number\"))\n",
    "print(type(num))\n",
    "res=int(num)\n",
    "print(\"After conversion\")\n",
    "print(type(res))"
   ]
  },
  {
   "cell_type": "code",
   "execution_count": 48,
   "metadata": {},
   "outputs": [
    {
     "name": "stdout",
     "output_type": "stream",
     "text": [
      "HI ! According to you birth year you're age is  23\n"
     ]
    }
   ],
   "source": [
    "# 13Write a program to ask the user to enter his/her birth year and print the age.\n",
    "current_year=2080\n",
    "birth_year=int(input(\"Hlo ! Please provide me your birth Year in BS\"))\n",
    "Age=current_year-birth_year\n",
    "print(\"HI ! According to you birth year you're age is \",Age)\n"
   ]
  }
 ],
 "metadata": {
  "kernelspec": {
   "display_name": "Python 3",
   "language": "python",
   "name": "python3"
  },
  "language_info": {
   "codemirror_mode": {
    "name": "ipython",
    "version": 3
   },
   "file_extension": ".py",
   "mimetype": "text/x-python",
   "name": "python",
   "nbconvert_exporter": "python",
   "pygments_lexer": "ipython3",
   "version": "3.11.5"
  },
  "orig_nbformat": 4
 },
 "nbformat": 4,
 "nbformat_minor": 2
}
