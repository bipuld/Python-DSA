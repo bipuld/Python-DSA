{
 "cells": [
  {
   "cell_type": "markdown",
   "metadata": {},
   "source": [
    "1.Uniqueness of Elements: A set is an unordered collection of unique elements. This means that a set cannot contain duplicate values. If you try to add a duplicate element to a set, it will not be added.\n",
    "2.Modifying Sets: Sets are mutable, meaning you can add and remove elements from a set after it's created. You can use methods like add(), remove(), discard(), pop(), and more to modify sets.\n",
    "3.Set Operations: Sets support various mathematical set operations, such as union (|), intersection (&), differencme (-), and symmetric difference (^). These operations allow you to combine and manipulate sets easily.\n",
    "4.No Indexing: Sets are unordered, so they do not support indexing. You cannot access elements in a set using indices like you would in a list or tuple.\n",
    "5.Iterating Through Sets: You can iterate through the elements of a set using loops or comprehensions. However, keep in mind that the order of iteration is not guaranteed.\n",
    "6.Membership Testing: Sets are efficient for membership testing. You can quickly check whether an element is present in a set using the in keyword.\n",
    "7.Frozensets: Python also has a frozenset type, which is an immutable version of a set. You can use frozensets as elements in other sets or as dictionary keys.\n",
    "Use Cases: Sets are commonly used for tasks that involve membership testing, eliminating duplicates, and performing set operations. They're especially useful when you need to keep track of unique elements without considering their order."
   ]
  },
  {
   "cell_type": "code",
   "execution_count": null,
   "metadata": {},
   "outputs": [],
   "source": [
    "fruits = {\"apple\", \"banana\", \"orange\", \"apple\", \"grape\"}\n",
    "print('orginal fruits are:',fruits)"
   ]
  }
 ],
 "metadata": {
  "kernelspec": {
   "display_name": "Python 3",
   "language": "python",
   "name": "python3"
  },
  "language_info": {
   "codemirror_mode": {
    "name": "ipython",
    "version": 3
   },
   "file_extension": ".py",
   "mimetype": "text/x-python",
   "name": "python",
   "nbconvert_exporter": "python",
   "pygments_lexer": "ipython3",
   "version": "3.11.4"
  },
  "orig_nbformat": 4
 },
 "nbformat": 4,
 "nbformat_minor": 2
}
