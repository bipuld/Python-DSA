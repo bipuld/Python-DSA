num=input('Enter a numbers:')
# num_int=num.split()
# value_list=[int(n) for  n in num_int]
# print('You entered:',value_list)