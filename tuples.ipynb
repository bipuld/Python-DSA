{
 "cells": [
  {
   "cell_type": "code",
   "execution_count": 5,
   "metadata": {},
   "outputs": [
    {
     "name": "stdout",
     "output_type": "stream",
     "text": [
      "(1, 2, 3, 4, 5)\n",
      "<class 'tuple'>\n",
      "5\n"
     ]
    }
   ],
   "source": [
    "mytuple = (1, 2, 3, 4, 5)\n",
    "print(mytuple)\n",
    "print(type(mytuple))\n",
    "print(len(mytuple))"
   ]
  },
  {
   "cell_type": "code",
   "execution_count": 31,
   "metadata": {},
   "outputs": [
    {
     "name": "stdout",
     "output_type": "stream",
     "text": [
      "('Hello', 'World', 'Python')\n"
     ]
    },
    {
     "ename": "TypeError",
     "evalue": "'list' object is not callable",
     "output_type": "error",
     "traceback": [
      "\u001b[1;31m---------------------------------------------------------------------------\u001b[0m",
      "\u001b[1;31mTypeError\u001b[0m                                 Traceback (most recent call last)",
      "Cell \u001b[1;32mIn[31], line 3\u001b[0m\n\u001b[0;32m      1\u001b[0m mytuple \u001b[39m=\u001b[39m (\u001b[39m'\u001b[39m\u001b[39mHello\u001b[39m\u001b[39m'\u001b[39m, \u001b[39m'\u001b[39m\u001b[39mWorld\u001b[39m\u001b[39m'\u001b[39m, \u001b[39m'\u001b[39m\u001b[39mPython\u001b[39m\u001b[39m'\u001b[39m)\n\u001b[0;32m      2\u001b[0m \u001b[39mprint\u001b[39m((mytuple))\n\u001b[1;32m----> 3\u001b[0m l\u001b[39m=\u001b[39m\u001b[39mlist\u001b[39;49m(mytuple)\n\u001b[0;32m      4\u001b[0m \u001b[39mprint\u001b[39m(l)\n",
      "\u001b[1;31mTypeError\u001b[0m: 'list' object is not callable"
     ]
    }
   ],
   "source": [
    "mytuple = ('Hello', 'World', 'Python')\n",
    "print((mytuple))\n",
    "l=list(mytuple)\n",
    "print(l)\n"
   ]
  },
  {
   "cell_type": "code",
   "execution_count": null,
   "metadata": {},
   "outputs": [],
   "source": [
    "mytuple = ('Hello', 'World', 'Python')\n",
    "print((mytuple))\n",
    "l=list(mytuple)\n",
    "l.append('pratice')\n",
    "l.insert(0,'Nepal is ')\n",
    "l[2]='Ne'\n",
    "# for removing data\n",
    "l.remove('Ne')\n",
    "l.pop(2)\n",
    "del l[2]\n",
    "new_list=[i for i in l if  i!='Hello']\n",
    "print(new_list)\n",
    "# conversion for list in to tuples\n",
    "my_tuples=tuple(l)\n",
    "print(type(my_tuples))\n",
    "fruits = (\"apple\", \"banana\", \"orange\", \"grape\")\n",
    "# asc=fruits.sort()\n",
    "f=list(fruits)\n",
    "# print(f)\n",
    "asc=f.sort(reverse=True)\n",
    "print(asc)\n",
    "numbers = (4, 2, 7, 1, 9, 5)\n",
    "l=list(numbers)\n",
    "print(l)\n"
   ]
  }
 ],
 "metadata": {
  "kernelspec": {
   "display_name": "Python 3",
   "language": "python",
   "name": "python3"
  },
  "language_info": {
   "codemirror_mode": {
    "name": "ipython",
    "version": 3
   },
   "file_extension": ".py",
   "mimetype": "text/x-python",
   "name": "python",
   "nbconvert_exporter": "python",
   "pygments_lexer": "ipython3",
   "version": "3.11.4"
  },
  "orig_nbformat": 4
 },
 "nbformat": 4,
 "nbformat_minor": 2
}
